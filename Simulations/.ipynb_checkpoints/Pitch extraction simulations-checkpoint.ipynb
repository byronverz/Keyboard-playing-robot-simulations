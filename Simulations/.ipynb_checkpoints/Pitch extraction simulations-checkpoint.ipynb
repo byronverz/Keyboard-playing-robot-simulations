{
 "cells": [
  {
   "cell_type": "markdown",
   "metadata": {},
   "source": [
    "# Pitch Extraction Simulation notebook "
   ]
  },
  {
   "cell_type": "markdown",
   "metadata": {},
   "source": [
    "This notebook is for testing of simulation blocks"
   ]
  },
  {
   "cell_type": "code",
   "execution_count": 304,
   "metadata": {
    "ExecuteTime": {
     "end_time": "2020-10-02T08:11:22.698192Z",
     "start_time": "2020-10-02T08:11:22.692191Z"
    }
   },
   "outputs": [],
   "source": [
    "import pyaudio\n",
    "import struct\n",
    "import matplotlib.pyplot as plt\n",
    "import matplotlib.animation as animation\n",
    "# from matplotlib import style\n",
    "import numpy as np\n",
    "import sys, select, os\n",
    "import time\n",
    "import csv\n",
    "%matplotlib qt\n",
    "\n",
    "FORMAT = pyaudio.paInt16\n",
    "CHANNELS = 1 # Mono audio\n",
    "SAMPLE_RATE = 44100 # Sample rate\n",
    "WINDOW_SAMPLES = 2048 # Each window will be 2048 samples long at 22.68us per sample = 0.046s per window\n",
    "WINDOWS_PER_BUFFER = 20\n",
    "FRAMES_PER_BUFFER = WINDOW_SAMPLES*WINDOWS_PER_BUFFER"
   ]
  },
  {
   "cell_type": "code",
   "execution_count": 305,
   "metadata": {
    "ExecuteTime": {
     "end_time": "2020-10-02T08:11:22.956191Z",
     "start_time": "2020-10-02T08:11:22.950192Z"
    }
   },
   "outputs": [],
   "source": [
    "p = pyaudio.PyAudio()\n",
    "streamIn = p.open(\n",
    "        format = FORMAT,\n",
    "        channels = CHANNELS,\n",
    "        rate = SAMPLE_RATE,\n",
    "        input = True,\n",
    "        output = False,\n",
    "        frames_per_buffer = FRAMES_PER_BUFFER\n",
    "        )"
   ]
  },
  {
   "cell_type": "code",
   "execution_count": 113,
   "metadata": {
    "ExecuteTime": {
     "end_time": "2020-09-30T20:54:35.915971Z",
     "start_time": "2020-09-30T20:54:35.905983Z"
    }
   },
   "outputs": [],
   "source": [
    "BB_FORMAT = pyaudio.paInt16\n",
    "BB_CHANNELS = 1 \n",
    "BB_SAMPLE_RATE = 44100\n",
    "BB_WINDOW_SAMPLES = 4096 \n",
    "BB_WINDOWS_PER_BUFFER = 5\n",
    "BB_FRAMES_PER_BUFFER = BB_WINDOW_SAMPLES*BB_WINDOWS_PER_BUFFER\n",
    "\n",
    "BB_p = pyaudio.PyAudio()\n",
    "BB_streamIn = BB_p.open(format = BB_FORMAT,\n",
    "                       channels = BB_CHANNELS,\n",
    "                       rate = BB_SAMPLE_RATE,\n",
    "                       input = True,\n",
    "                       output = False,\n",
    "                       frames_per_buffer = BB_FRAMES_PER_BUFFER)"
   ]
  },
  {
   "cell_type": "markdown",
   "metadata": {},
   "source": [
    "### AMDF Pitch extractor function"
   ]
  },
  {
   "cell_type": "code",
   "execution_count": 125,
   "metadata": {
    "ExecuteTime": {
     "end_time": "2020-10-01T11:47:52.848096Z",
     "start_time": "2020-10-01T11:47:52.841063Z"
    }
   },
   "outputs": [],
   "source": [
    "# Function is defined as Dn = 1/L * sum^{L}_{k=0} |S_{j} - S{j-n}| with n = 0,1,2,3... \n",
    "#                                                              and Sj are the samples\n",
    "def amdf_PE(inputWindow):\n",
    "    D_tau = np.zeros((8,256))\n",
    "    minIndices = np.zeros(8)\n",
    "    freq = np.zeros(8)\n",
    "    vol = np.zeros(8)\n",
    "\n",
    "    for c in range(8):\n",
    "        inputWindow_block = inputWindow[c*256:(c+1)*256]\n",
    "        tau = np.arange(0,(len(inputWindow_block)-1))\n",
    "        for i,t in enumerate(tau):\n",
    "            temp = 0\n",
    "            shifted = np.zeros_like(inputWindow_block)\n",
    "            if t == 0:\n",
    "                shifted = inputWindow_block\n",
    "            else:\n",
    "                shifted[:t] = 0\n",
    "                shifted[t:] = inputWindow_block[:-t]\n",
    "\n",
    "            diffArr = np.abs(np.subtract(inputWindow_block,shifted))\n",
    "            temp = (np.sum(diffArr)/len(inputWindow_block))\n",
    "            D_tau[c,i] = temp\n",
    "            \n",
    "        offset = np.argmax(D_tau[c,:])\n",
    "        minIndices[c] = (c*256+offset)+np.argmin(D_tau[c,offset:-1])\n",
    "        freq[c] = SAMPLE_RATE/(minIndices[c]-(c*256))\n",
    "        vol[c] = 20*np.log10(np.mean(np.abs(inputWindow))) - 96.3\n",
    "    \n",
    "    return D_tau.flatten(),minIndices, freq, vol"
   ]
  },
  {
   "cell_type": "code",
   "execution_count": 306,
   "metadata": {
    "ExecuteTime": {
     "end_time": "2020-10-02T08:11:40.281586Z",
     "start_time": "2020-10-02T08:11:40.274613Z"
    }
   },
   "outputs": [],
   "source": [
    "def amdf_PE_2(inputWindow):\n",
    "    D_tau = np.zeros((8,256))\n",
    "    minIndices = np.empty(8)\n",
    "    freq = np.empty(8)\n",
    "    vol = np.empty(8)\n",
    "    tau = np.arange(1,255)\n",
    "    \n",
    "    for c in range(8):       \n",
    "        inputWindow_block = inputWindow[c*5120:(c*5120)+256]    \n",
    "        for i,t in enumerate(tau, start = 1):\n",
    "            shifted = np.zeros_like(inputWindow_block)\n",
    "            shifted[t:] = inputWindow_block[:-t]\n",
    "            D_tau[c,i] = np.sum(np.abs(inputWindow_block-shifted))/256\n",
    "\n",
    "        offset = np.argmax(D_tau[c,:])\n",
    "        minIndices[c] = (c*256+offset)+np.argmin(D_tau[c,offset:-1])\n",
    "        freq[c] = (44100/(minIndices[c]-(c*256)))\n",
    "        vol[c] = 20*np.log10(np.mean(np.abs(inputWindow))) - 96.3\n",
    "    \n",
    "    return D_tau, minIndices, freq, vol"
   ]
  },
  {
   "cell_type": "code",
   "execution_count": 38,
   "metadata": {
    "ExecuteTime": {
     "end_time": "2020-08-25T12:22:32.889745Z",
     "start_time": "2020-08-25T12:22:32.848855Z"
    }
   },
   "outputs": [
    {
     "data": {
      "text/plain": [
       "[<matplotlib.lines.Line2D at 0x157667b1828>]"
      ]
     },
     "execution_count": 38,
     "metadata": {},
     "output_type": "execute_result"
    }
   ],
   "source": [
    "from sklearn.preprocessing import normalize\n",
    "x = np.random.rand(100)\n",
    "\n",
    "norm2 = normalize(x[:,np.newaxis], axis = 0).ravel()\n",
    "plt.plot(x)\n",
    "plt.plot(norm1)\n",
    "plt.plot(norm2)"
   ]
  },
  {
   "cell_type": "code",
   "execution_count": 86,
   "metadata": {
    "ExecuteTime": {
     "end_time": "2020-08-28T12:10:01.606669Z",
     "start_time": "2020-08-28T12:10:01.600678Z"
    }
   },
   "outputs": [
    {
     "data": {
      "text/plain": [
       "14.11111111111111"
      ]
     },
     "execution_count": 86,
     "metadata": {},
     "output_type": "execute_result"
    }
   ],
   "source": [
    "a = np.array([19,2,13,45,5,6,7,28,9,5,5,5,31,11,1,52,5,5])\n",
    "test = np.mean(a)\n",
    "test"
   ]
  },
  {
   "cell_type": "markdown",
   "metadata": {},
   "source": [
    "### Stretch function\n",
    "Trying to determine an on-the-fly function generator that will compensate for the decay of the AMDF. The linear function does not work as the decay is not linear and approximation with a linear function does not yield good results yet\n",
    "\n",
    "Possible fixes:\n",
    "    - scaling factor in the denominator\n",
    "    - non-linear function (will require some form of interpolation)"
   ]
  },
  {
   "cell_type": "code",
   "execution_count": 6,
   "metadata": {},
   "outputs": [
    {
     "ename": "NameError",
     "evalue": "name 'D_tau' is not defined",
     "output_type": "error",
     "traceback": [
      "\u001b[1;31m---------------------------------------------------------------------------\u001b[0m",
      "\u001b[1;31mNameError\u001b[0m                                 Traceback (most recent call last)",
      "\u001b[1;32m<ipython-input-6-1401b09352b8>\u001b[0m in \u001b[0;36m<module>\u001b[1;34m\u001b[0m\n\u001b[0;32m      1\u001b[0m \u001b[1;31m## Stretch function (not currently working)\u001b[0m\u001b[1;33m\u001b[0m\u001b[1;33m\u001b[0m\u001b[1;33m\u001b[0m\u001b[0m\n\u001b[1;32m----> 2\u001b[1;33m \u001b[0mD_max\u001b[0m \u001b[1;33m=\u001b[0m \u001b[0mnp\u001b[0m\u001b[1;33m.\u001b[0m\u001b[0mmax\u001b[0m\u001b[1;33m(\u001b[0m\u001b[0mD_tau\u001b[0m\u001b[1;33m)\u001b[0m\u001b[1;33m\u001b[0m\u001b[1;33m\u001b[0m\u001b[0m\n\u001b[0m\u001b[0;32m      3\u001b[0m \u001b[0mstretch\u001b[0m \u001b[1;33m=\u001b[0m \u001b[0mnp\u001b[0m\u001b[1;33m.\u001b[0m\u001b[0mzeros\u001b[0m\u001b[1;33m(\u001b[0m\u001b[0mFRAMES_PER_BUFFER\u001b[0m\u001b[1;33m)\u001b[0m\u001b[1;33m\u001b[0m\u001b[1;33m\u001b[0m\u001b[0m\n\u001b[0;32m      4\u001b[0m \u001b[0mstretch\u001b[0m\u001b[1;33m[\u001b[0m\u001b[1;36m0\u001b[0m\u001b[1;33m]\u001b[0m \u001b[1;33m=\u001b[0m \u001b[1;36m1\u001b[0m\u001b[1;33m\u001b[0m\u001b[1;33m\u001b[0m\u001b[0m\n\u001b[0;32m      5\u001b[0m \u001b[1;32mfor\u001b[0m \u001b[0mn\u001b[0m \u001b[1;32min\u001b[0m \u001b[0mrange\u001b[0m\u001b[1;33m(\u001b[0m\u001b[1;36m1\u001b[0m\u001b[1;33m,\u001b[0m\u001b[0mFRAMES_PER_BUFFER\u001b[0m\u001b[1;33m)\u001b[0m\u001b[1;33m:\u001b[0m\u001b[1;33m\u001b[0m\u001b[1;33m\u001b[0m\u001b[0m\n",
      "\u001b[1;31mNameError\u001b[0m: name 'D_tau' is not defined"
     ]
    }
   ],
   "source": [
    "## Stretch function (not currently working)\n",
    "D_max = np.max(D_tau)\n",
    "stretch = np.zeros(FRAMES_PER_BUFFER)\n",
    "stretch[0] = 1\n",
    "for n in range(1,FRAMES_PER_BUFFER):\n",
    "    stretch[n] = D_max*((-1/(10*2*FRAMES_PER_BUFFER))*n)\n",
    "D_tau = (D_tau*stretch-(D_max/2))"
   ]
  },
  {
   "cell_type": "code",
   "execution_count": 43,
   "metadata": {},
   "outputs": [
    {
     "data": {
      "text/plain": [
       "[<matplotlib.lines.Line2D at 0x2884957ba90>]"
      ]
     },
     "execution_count": 43,
     "metadata": {},
     "output_type": "execute_result"
    }
   ],
   "source": [
    "plt.plot(stretch)"
   ]
  },
  {
   "cell_type": "code",
   "execution_count": 7,
   "metadata": {},
   "outputs": [
    {
     "name": "stdout",
     "output_type": "stream",
     "text": [
      "Time taken: 0.026920795440673828\n"
     ]
    }
   ],
   "source": [
    "data = streamIn.read(FRAMES_PER_BUFFER)\n",
    "data_int = np.frombuffer(data,dtype='<i2')\n",
    "# print(data_int)\n",
    "a = time.time()\n",
    "AMDF_data = amdf_PE(data_int)\n",
    "b = time.time()\n",
    "print(\"Time taken: {}\".format(b-a))\n",
    "# plt.plot(AMDF_data)"
   ]
  },
  {
   "cell_type": "markdown",
   "metadata": {},
   "source": [
    "# Plotting function"
   ]
  },
  {
   "cell_type": "markdown",
   "metadata": {},
   "source": [
    "### PC simulation:\n",
    "Initial PC simulation for PoC and AMDF design"
   ]
  },
  {
   "cell_type": "code",
   "execution_count": 307,
   "metadata": {
    "ExecuteTime": {
     "end_time": "2020-10-02T08:12:36.801326Z",
     "start_time": "2020-10-02T08:11:51.349240Z"
    }
   },
   "outputs": [
    {
     "name": "stdout",
     "output_type": "stream",
     "text": [
      "45.276118993759155\n"
     ]
    },
    {
     "data": {
      "text/plain": [
       "([<matplotlib.axis.XTick at 0x1a8c0f504a8>,\n",
       "  <matplotlib.axis.XTick at 0x1a8c0f50860>,\n",
       "  <matplotlib.axis.XTick at 0x1a8c09ebe10>,\n",
       "  <matplotlib.axis.XTick at 0x1a8c0f82278>,\n",
       "  <matplotlib.axis.XTick at 0x1a8c0f82710>,\n",
       "  <matplotlib.axis.XTick at 0x1a8c0f82ba8>,\n",
       "  <matplotlib.axis.XTick at 0x1a8c0f82b70>],\n",
       " [Text(0, 0, '0.0'),\n",
       "  Text(0, 0, '5.66'),\n",
       "  Text(0, 0, '11.32'),\n",
       "  Text(0, 0, '16.98'),\n",
       "  Text(0, 0, '22.64'),\n",
       "  Text(0, 0, '28.3'),\n",
       "  Text(0, 0, '33.96')])"
      ]
     },
     "execution_count": 307,
     "metadata": {},
     "output_type": "execute_result"
    }
   ],
   "source": [
    "fig, ax = plt.subplots()\n",
    "ax.set_title(\"AMDF\")\n",
    "ax.set_ylim([-(2**8),(2**14)])\n",
    "vline0 = ax.axvline(x =   0.,color = 'red')\n",
    "vline01 = ax.axvline(x =   0.,color = 'red')\n",
    "vline1 = ax.axvline(x = 256,color = 'k')\n",
    "vline01 = ax.axvline(x = 256,color = 'k')\n",
    "vline2 = ax.axvline(x = 512,color = 'green')\n",
    "vline02 = ax.axvline(x = 512,color = 'green')\n",
    "vline3 = ax.axvline(x = 768,color = 'orange')\n",
    "vline03 = ax.axvline(x = 768,color = 'orange')\n",
    "vline4 = ax.axvline(x = 1024,color = 'pink')\n",
    "vline04 = ax.axvline(x = 1024,color = 'pink')\n",
    "vline5 = ax.axvline(x = 1280,color = 'purple')\n",
    "vline05 = ax.axvline(x = 1280,color = 'purple')\n",
    "vline6 = ax.axvline(x = 1536,color = 'yellow')\n",
    "vline06 = ax.axvline(x = 1536,color = 'yellow')\n",
    "vline7 = ax.axvline(x = 1792,color = 'cyan')\n",
    "vline07 = ax.axvline(x = 1792,color = 'cyan')\n",
    "line, = ax.plot(np.zeros(2048))\n",
    "\n",
    "# line1, = ax.plot(np.zeros(FRAMES_PER_BUFFER))\n",
    "# line2, = ax.plot(np.zeros(FRAMES_PER_BUFFER))\n",
    "plt.show()\n",
    "signal = []\n",
    "amdf_val = []\n",
    "stretch = []\n",
    "freqs = []\n",
    "vols = []\n",
    "func_time = []\n",
    "timer = 0\n",
    "num_frames = 0\n",
    "timerStart = time.time()\n",
    "while num_frames<50:\n",
    "    data = streamIn.read(FRAMES_PER_BUFFER)\n",
    "    data_int2 = np.frombuffer(data,dtype='<i2')\n",
    "#     print(len(data_int2))\n",
    "    timer = time.time()-timerStart\n",
    "    func_time_start = time.time()\n",
    "    amdf_data, vline, freqArr, vol = amdf_PE_2(data_int2)\n",
    "    func_time.append(time.time()-func_time_start)\n",
    "    line.set_ydata(amdf_data.flatten())\n",
    "    freqs.append(freqArr)\n",
    "    vols.append(vol)\n",
    "#     if timer>= 3.0:\n",
    "#         finalTimer = time.time()-timerStart\n",
    "#         break\n",
    "    vline0.set_data(vline[0] , [0,1])\n",
    "    vline1.set_data(vline[1] , [0,1])\n",
    "    vline2.set_data(vline[2] , [0,1])\n",
    "    vline3.set_data(vline[3] , [0,1])\n",
    "    vline4.set_data(vline[4] , [0,1])\n",
    "    vline5.set_data(vline[5] , [0,1])\n",
    "    vline6.set_data(vline[6] , [0,1])\n",
    "    vline7.set_data(vline[7] , [0,1])\n",
    "    fig.canvas.draw()\n",
    "    fig.canvas.update()\n",
    "    fig.canvas.flush_events()\n",
    "    num_frames += 1\n",
    "# plt.close(fig)\n",
    "freqs = np.array(freqs)\n",
    "freqs = freqs.flatten()\n",
    "vols = np.array(vols)\n",
    "vols = vols.flatten()\n",
    "# vols /= np.max(vols) \n",
    "print(timer)\n",
    "xAxis = np.round(np.arange(0,timer,timer/8),2)\n",
    "xticker = np.arange(len(freqs))\n",
    "fig, ax1 = plt.subplots()\n",
    "fig.suptitle(\"Frequency and volume progression of recorded audio\")\n",
    "ax1.set_ylabel(\"Frequency (Hz)\", color = \"green\")\n",
    "ax1.set_xlabel(\"Time (sampled at {} Hz)\".format(SAMPLE_RATE))\n",
    "ax1.plot(freqs, color = 'green')\n",
    "\n",
    "ax2 = ax1.twinx()\n",
    "ax2.set_ylabel(\"Volume (dB)\", color = \"red\")\n",
    "ax2.plot(vols, color = 'red')\n",
    "plt.xticks(xticker[::66], xAxis)"
   ]
  },
  {
   "cell_type": "markdown",
   "metadata": {},
   "source": [
    "### BBB Simulation:\n",
    "Simulating the AMDF for the BeagleBone Black recording speed limitations"
   ]
  },
  {
   "cell_type": "code",
   "execution_count": 120,
   "metadata": {
    "ExecuteTime": {
     "end_time": "2020-09-30T21:16:49.756116Z",
     "start_time": "2020-09-30T21:16:24.277943Z"
    }
   },
   "outputs": [
    {
     "name": "stdout",
     "output_type": "stream",
     "text": [
      "25.30523133277893\n"
     ]
    },
    {
     "data": {
      "text/plain": [
       "([<matplotlib.axis.XTick at 0x1a8b06e1128>,\n",
       "  <matplotlib.axis.XTick at 0x1a8b06e10b8>,\n",
       "  <matplotlib.axis.XTick at 0x1a8b06b35c0>,\n",
       "  <matplotlib.axis.XTick at 0x1a8b06ffe80>,\n",
       "  <matplotlib.axis.XTick at 0x1a8b070a358>,\n",
       "  <matplotlib.axis.XTick at 0x1a8b070a7f0>,\n",
       "  <matplotlib.axis.XTick at 0x1a8b070ac88>],\n",
       " [Text(0, 0, '0.0'),\n",
       "  Text(0, 0, '3.16'),\n",
       "  Text(0, 0, '6.33'),\n",
       "  Text(0, 0, '9.49'),\n",
       "  Text(0, 0, '12.65'),\n",
       "  Text(0, 0, '15.82'),\n",
       "  Text(0, 0, '18.98')])"
      ]
     },
     "execution_count": 120,
     "metadata": {},
     "output_type": "execute_result"
    }
   ],
   "source": [
    "fig, ax = plt.subplots()\n",
    "ax.set_title(\"AMDF\")\n",
    "ax.set_ylim([-(2**4),(2**12)])\n",
    "vline0 = ax.axvline(x =   0.,color = 'red')\n",
    "vline01 = ax.axvline(x =   0.,color = 'red')\n",
    "vline1 = ax.axvline(x = 256,color = 'k')\n",
    "vline01 = ax.axvline(x = 256,color = 'k')\n",
    "vline2 = ax.axvline(x = 512,color = 'green')\n",
    "vline02 = ax.axvline(x = 512,color = 'green')\n",
    "vline3 = ax.axvline(x = 768,color = 'orange')\n",
    "vline03 = ax.axvline(x = 768,color = 'orange')\n",
    "vline4 = ax.axvline(x = 1024,color = 'pink')\n",
    "vline04 = ax.axvline(x = 1024,color = 'pink')\n",
    "vline5 = ax.axvline(x = 1280,color = 'purple')\n",
    "vline05 = ax.axvline(x = 1280,color = 'purple')\n",
    "vline6 = ax.axvline(x = 1536,color = 'yellow')\n",
    "vline06 = ax.axvline(x = 1536,color = 'yellow')\n",
    "vline7 = ax.axvline(x = 1792,color = 'cyan')\n",
    "vline07 = ax.axvline(x = 1792,color = 'cyan')\n",
    "line, = ax.plot(np.zeros(FRAMES_PER_BUFFER))\n",
    "\n",
    "# line1, = ax.plot(np.zeros(FRAMES_PER_BUFFER))\n",
    "# line2, = ax.plot(np.zeros(FRAMES_PER_BUFFER))\n",
    "plt.show()\n",
    "BB_signal = []\n",
    "BB_amdf_val = []\n",
    "BB_stretch = []\n",
    "BB_freqs = []\n",
    "BB_vols = []\n",
    "BB_func_time = []\n",
    "timer = 0\n",
    "num_frames = 0\n",
    "timerStart = time.time()\n",
    "while num_frames<56:\n",
    "    BB_data = BB_streamIn.read(BB_FRAMES_PER_BUFFER)\n",
    "    BB_data_int2 = np.frombuffer(BB_data,dtype='<i2')\n",
    "#     print(len(data_int2))\n",
    "    timer = time.time()-timerStart\n",
    "    bb_func_timer_start = time.time()\n",
    "    amdf_data, vline, freqArr, vol = amdf_PE_2(BB_data_int2)\n",
    "    BB_func_time.append(time.time() - bb_func_timer_start)\n",
    "    line.set_ydata(amdf_data.flatten())\n",
    "    BB_freqs.append(freqArr)\n",
    "    BB_vols.append(vol)\n",
    "#     if timer>= 3.0:\n",
    "#         finalTimer = time.time()-timerStart\n",
    "#         break\n",
    "    vline0.set_data(vline[0] , [0,1])\n",
    "    vline1.set_data(vline[1] , [0,1])\n",
    "    vline2.set_data(vline[2] , [0,1])\n",
    "    vline3.set_data(vline[3] , [0,1])\n",
    "    vline4.set_data(vline[4] , [0,1])\n",
    "    vline5.set_data(vline[5] , [0,1])\n",
    "    vline6.set_data(vline[6] , [0,1])\n",
    "    vline7.set_data(vline[7] , [0,1])\n",
    "    fig.canvas.draw()\n",
    "    fig.canvas.update()\n",
    "    fig.canvas.flush_events()\n",
    "    num_frames += 1\n",
    "# plt.close(fig)\n",
    "BB_freqs = np.array(BB_freqs)\n",
    "BB_freqs = BB_freqs.flatten()\n",
    "BB_vols = np.array(BB_vols)\n",
    "BB_vols = BB_vols.flatten()\n",
    "# vols /= np.max(vols) \n",
    "print(timer)\n",
    "xAxis = np.round(np.arange(0,timer,timer/8),2)\n",
    "xticker = np.arange(len(BB_freqs))\n",
    "fig, ax1 = plt.subplots()\n",
    "fig.suptitle(\"Frequency and volume progression of recorded audio\")\n",
    "ax1.set_ylabel(\"Frequency (Hz)\", color = \"green\")\n",
    "ax1.set_xlabel(\"Time (sampled at {} Hz)\".format(BB_SAMPLE_RATE))\n",
    "ax1.plot(BB_freqs, color = 'green')\n",
    "\n",
    "ax2 = ax1.twinx()\n",
    "ax2.set_ylabel(\"Volume (dB)\", color = \"red\")\n",
    "ax2.plot(BB_vols, color = 'red')\n",
    "plt.xticks(xticker[::66], xAxis)"
   ]
  },
  {
   "cell_type": "code",
   "execution_count": 308,
   "metadata": {
    "ExecuteTime": {
     "end_time": "2020-10-02T08:12:53.773945Z",
     "start_time": "2020-10-02T08:12:53.723947Z"
    }
   },
   "outputs": [
    {
     "name": "stdout",
     "output_type": "stream",
     "text": [
      "0.022172150611877443\n"
     ]
    }
   ],
   "source": [
    "plt.plot(func_time)\n",
    "print(np.mean(func_time))"
   ]
  },
  {
   "cell_type": "code",
   "execution_count": 121,
   "metadata": {
    "ExecuteTime": {
     "end_time": "2020-09-30T21:16:58.937623Z",
     "start_time": "2020-09-30T21:16:58.932624Z"
    }
   },
   "outputs": [
    {
     "data": {
      "text/plain": [
       "[<matplotlib.lines.Line2D at 0x1a8b09f1e48>]"
      ]
     },
     "execution_count": 121,
     "metadata": {},
     "output_type": "execute_result"
    }
   ],
   "source": [
    "plt.plot(BB_func_time)"
   ]
  },
  {
   "cell_type": "markdown",
   "metadata": {},
   "source": [
    "### Writing results to file"
   ]
  },
  {
   "cell_type": "code",
   "execution_count": 29,
   "metadata": {
    "ExecuteTime": {
     "end_time": "2020-08-31T09:11:59.658876Z",
     "start_time": "2020-08-31T09:11:59.650897Z"
    }
   },
   "outputs": [],
   "source": [
    "with open('frequency_list.csv','w') as file1:\n",
    "    np.savetxt(file1, freqs, fmt = '%10.3f', delimiter = ',')\n",
    "\n",
    "with open('volume_list.csv','w') as file2:\n",
    "    np.savetxt(file2, vols, fmt= '%10.3f', delimiter = ',')"
   ]
  },
  {
   "cell_type": "code",
   "execution_count": 82,
   "metadata": {
    "ExecuteTime": {
     "end_time": "2020-08-27T12:13:17.208351Z",
     "start_time": "2020-08-27T12:13:17.204337Z"
    }
   },
   "outputs": [
    {
     "data": {
      "text/plain": [
       "array([0.  , 0.38, 0.75, 1.13, 1.5 , 1.88, 2.26, 2.63])"
      ]
     },
     "execution_count": 82,
     "metadata": {},
     "output_type": "execute_result"
    }
   ],
   "source": [
    "xAxis"
   ]
  },
  {
   "cell_type": "markdown",
   "metadata": {},
   "source": [
    "## Plotting BBBW output for accuracy and speed testing"
   ]
  },
  {
   "cell_type": "code",
   "execution_count": 12,
   "metadata": {
    "ExecuteTime": {
     "end_time": "2020-08-31T08:53:10.270831Z",
     "start_time": "2020-08-31T08:53:10.267829Z"
    }
   },
   "outputs": [
    {
     "name": "stdout",
     "output_type": "stream",
     "text": [
      "-41.88787574978075\n"
     ]
    }
   ],
   "source": [
    "print(vol)"
   ]
  }
 ],
 "metadata": {
  "kernelspec": {
   "display_name": "Python 3",
   "language": "python",
   "name": "python3"
  },
  "language_info": {
   "codemirror_mode": {
    "name": "ipython",
    "version": 3
   },
   "file_extension": ".py",
   "mimetype": "text/x-python",
   "name": "python",
   "nbconvert_exporter": "python",
   "pygments_lexer": "ipython3",
   "version": "3.7.3"
  }
 },
 "nbformat": 4,
 "nbformat_minor": 2
}
