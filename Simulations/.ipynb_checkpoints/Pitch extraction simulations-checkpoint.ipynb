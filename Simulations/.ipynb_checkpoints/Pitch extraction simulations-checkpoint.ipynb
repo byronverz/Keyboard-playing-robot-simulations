{
 "cells": [
  {
   "cell_type": "markdown",
   "metadata": {},
   "source": [
    "# Simulation notebook "
   ]
  },
  {
   "cell_type": "markdown",
   "metadata": {},
   "source": [
    "This notebook is for testing of simulation blocks"
   ]
  },
  {
   "cell_type": "code",
   "execution_count": 1,
   "metadata": {},
   "outputs": [],
   "source": [
    "import pyaudio\n",
    "import struct\n",
    "import matplotlib.pyplot as plt\n",
    "import matplotlib.animation as animation\n",
    "# from matplotlib import style\n",
    "import numpy as np\n",
    "import sys, select, os\n",
    "import time\n",
    "%matplotlib qt\n",
    "\n",
    "FORMAT = pyaudio.paInt16\n",
    "CHANNELS = 1 # Mono audio\n",
    "SAMPLE_RATE = 44100 # Sample rate\n",
    "WINDOW_SAMPLES = 2048 # Each window will be 2048 samples long at 22.68us per sample = 0.046s per window\n",
    "WINDOWS_PER_BUFFER = 1\n",
    "FRAMES_PER_BUFFER = WINDOW_SAMPLES*WINDOWS_PER_BUFFER"
   ]
  },
  {
   "cell_type": "code",
   "execution_count": 2,
   "metadata": {},
   "outputs": [],
   "source": [
    "p = pyaudio.PyAudio()\n",
    "streamIn = p.open(\n",
    "        format = FORMAT,\n",
    "        channels = CHANNELS,\n",
    "        rate = SAMPLE_RATE,\n",
    "        input = True,\n",
    "        output = True,\n",
    "        frames_per_buffer = FRAMES_PER_BUFFER\n",
    "        )"
   ]
  },
  {
   "cell_type": "code",
   "execution_count": 3,
   "metadata": {},
   "outputs": [],
   "source": [
    "# Slower method\n",
    "# %timeit data_int = struct.unpack(str(FRAMES_PER_BUFFER)+'h',data) "
   ]
  },
  {
   "cell_type": "markdown",
   "metadata": {},
   "source": [
    "### AMDF Pitch extractor function"
   ]
  },
  {
   "cell_type": "code",
   "execution_count": 4,
   "metadata": {},
   "outputs": [],
   "source": [
    "# Function is defined as Dn = 1/L * sum^{L}_{k=0} |S_{j} - S{j-n}| with n = 0,1,2,3... \n",
    "#                                                              and Sj are the samples\n",
    "def amdf_PE(inputWindow):\n",
    "    D_tau = np.zeros(FRAMES_PER_BUFFER)\n",
    "    minIndices = np.zeros(3)\n",
    "#     scale_factor = 1/len(inputWindow)\n",
    "    tau = np.arange(0,(len(inputWindow)-1))\n",
    "    for i,t in enumerate(tau):\n",
    "        temp = 0\n",
    "        shifted = np.zeros_like(inputWindow)\n",
    "        if t == 0:\n",
    "            shifted = inputWindow\n",
    "        else:\n",
    "            shifted[:t] = 0\n",
    "            shifted[t:] = inputWindow[:-t]\n",
    "#         for i,win in enumerate(inputWindow):\n",
    "#         temp =+ np.abs(win-shifted[i])\n",
    "        diffArr = np.abs(np.subtract(inputWindow,shifted))\n",
    "        temp = (np.sum(diffArr)/len(inputWindow))\n",
    "        D_tau[i] = temp\n",
    "#     minIndices[0] = np.argmin(D_tau[1:1024])\n",
    "#     minIndices[1] = 1024+np.argmin(D_tau[1025:2048])\n",
    "#     minIndices[2] = 2048+np.argmin(D_tau[2049:4096])\n",
    "#     print(minIndices)\n",
    "#     for i, data in enumerate(D_tau):\n",
    "#         try:\n",
    "#             if (D_tau[i-1]>data) and (D_tau[i+1]> data):\n",
    "#                 minIndices.append(i)\n",
    "#         except:\n",
    "#             if (D_tau[i-1])>data:\n",
    "#                 minIndices.append(i)\n",
    "    return D_tau"
   ]
  },
  {
   "cell_type": "code",
   "execution_count": 23,
   "metadata": {},
   "outputs": [
    {
     "name": "stdout",
     "output_type": "stream",
     "text": [
      "Time taken: 0.03119492530822754\n"
     ]
    }
   ],
   "source": [
    "data = streamIn.read(FRAMES_PER_BUFFER)\n",
    "data_int = np.frombuffer(data,dtype='<i2')\n",
    "# print(data_int)\n",
    "a = time.time()\n",
    "AMDF_data = amdf_PE(data_int)\n",
    "b = time.time()\n",
    "print(\"Time taken: {}\".format(b-a))"
   ]
  },
  {
   "cell_type": "markdown",
   "metadata": {},
   "source": [
    "### Plotting function"
   ]
  },
  {
   "cell_type": "code",
   "execution_count": 16,
   "metadata": {},
   "outputs": [
    {
     "ename": "KeyboardInterrupt",
     "evalue": "",
     "output_type": "error",
     "traceback": [
      "\u001b[1;31m---------------------------------------------------------------------------\u001b[0m",
      "\u001b[1;31mKeyboardInterrupt\u001b[0m                         Traceback (most recent call last)",
      "\u001b[1;32m<ipython-input-16-f3e2b7b3792e>\u001b[0m in \u001b[0;36m<module>\u001b[1;34m\u001b[0m\n\u001b[0;32m     13\u001b[0m     \u001b[0mdata\u001b[0m \u001b[1;33m=\u001b[0m \u001b[0mstreamIn\u001b[0m\u001b[1;33m.\u001b[0m\u001b[0mread\u001b[0m\u001b[1;33m(\u001b[0m\u001b[0mFRAMES_PER_BUFFER\u001b[0m\u001b[1;33m)\u001b[0m\u001b[1;33m\u001b[0m\u001b[1;33m\u001b[0m\u001b[0m\n\u001b[0;32m     14\u001b[0m     \u001b[0mdata_int2\u001b[0m \u001b[1;33m=\u001b[0m \u001b[0mnp\u001b[0m\u001b[1;33m.\u001b[0m\u001b[0mfrombuffer\u001b[0m\u001b[1;33m(\u001b[0m\u001b[0mdata\u001b[0m\u001b[1;33m,\u001b[0m\u001b[0mdtype\u001b[0m\u001b[1;33m=\u001b[0m\u001b[1;34m'<i2'\u001b[0m\u001b[1;33m)\u001b[0m\u001b[1;33m\u001b[0m\u001b[1;33m\u001b[0m\u001b[0m\n\u001b[1;32m---> 15\u001b[1;33m     \u001b[0mamdf_data\u001b[0m \u001b[1;33m=\u001b[0m \u001b[0mamdf_PE\u001b[0m\u001b[1;33m(\u001b[0m\u001b[0mdata_int2\u001b[0m\u001b[1;33m+\u001b[0m\u001b[1;36m2\u001b[0m\u001b[1;33m**\u001b[0m\u001b[1;36m15\u001b[0m\u001b[1;33m)\u001b[0m\u001b[1;33m\u001b[0m\u001b[1;33m\u001b[0m\u001b[0m\n\u001b[0m\u001b[0;32m     16\u001b[0m     \u001b[0mline\u001b[0m\u001b[1;33m.\u001b[0m\u001b[0mset_ydata\u001b[0m\u001b[1;33m(\u001b[0m\u001b[0mamdf_data\u001b[0m\u001b[1;33m)\u001b[0m\u001b[1;33m\u001b[0m\u001b[1;33m\u001b[0m\u001b[0m\n\u001b[0;32m     17\u001b[0m \u001b[1;31m#     offset.append(amdf_data[-2])\u001b[0m\u001b[1;33m\u001b[0m\u001b[1;33m\u001b[0m\u001b[1;33m\u001b[0m\u001b[0m\n",
      "\u001b[1;32m<ipython-input-4-600a0b12b266>\u001b[0m in \u001b[0;36mamdf_PE\u001b[1;34m(inputWindow)\u001b[0m\n\u001b[0;32m     16\u001b[0m \u001b[1;31m#         for i,win in enumerate(inputWindow):\u001b[0m\u001b[1;33m\u001b[0m\u001b[1;33m\u001b[0m\u001b[1;33m\u001b[0m\u001b[0m\n\u001b[0;32m     17\u001b[0m \u001b[1;31m#         temp =+ np.abs(win-shifted[i])\u001b[0m\u001b[1;33m\u001b[0m\u001b[1;33m\u001b[0m\u001b[1;33m\u001b[0m\u001b[0m\n\u001b[1;32m---> 18\u001b[1;33m         \u001b[0mdiffArr\u001b[0m \u001b[1;33m=\u001b[0m \u001b[0mnp\u001b[0m\u001b[1;33m.\u001b[0m\u001b[0mabs\u001b[0m\u001b[1;33m(\u001b[0m\u001b[0mnp\u001b[0m\u001b[1;33m.\u001b[0m\u001b[0msubtract\u001b[0m\u001b[1;33m(\u001b[0m\u001b[0minputWindow\u001b[0m\u001b[1;33m,\u001b[0m\u001b[0mshifted\u001b[0m\u001b[1;33m)\u001b[0m\u001b[1;33m)\u001b[0m\u001b[1;33m\u001b[0m\u001b[1;33m\u001b[0m\u001b[0m\n\u001b[0m\u001b[0;32m     19\u001b[0m         \u001b[0mtemp\u001b[0m \u001b[1;33m=\u001b[0m \u001b[1;33m(\u001b[0m\u001b[0mnp\u001b[0m\u001b[1;33m.\u001b[0m\u001b[0msum\u001b[0m\u001b[1;33m(\u001b[0m\u001b[0mdiffArr\u001b[0m\u001b[1;33m)\u001b[0m\u001b[1;33m/\u001b[0m\u001b[0mlen\u001b[0m\u001b[1;33m(\u001b[0m\u001b[0minputWindow\u001b[0m\u001b[1;33m)\u001b[0m\u001b[1;33m)\u001b[0m\u001b[1;33m\u001b[0m\u001b[1;33m\u001b[0m\u001b[0m\n\u001b[0;32m     20\u001b[0m         \u001b[0mD_tau\u001b[0m\u001b[1;33m[\u001b[0m\u001b[0mi\u001b[0m\u001b[1;33m]\u001b[0m \u001b[1;33m=\u001b[0m \u001b[0mtemp\u001b[0m\u001b[1;33m\u001b[0m\u001b[1;33m\u001b[0m\u001b[0m\n",
      "\u001b[1;31mKeyboardInterrupt\u001b[0m: "
     ]
    }
   ],
   "source": [
    "fig, ax = plt.subplots()\n",
    "ax.set_title(\"AMDF\")\n",
    "ax.set_ylim([-(2**13),(2**13)])\n",
    "vline0 = ax.axvline(x=0.,color='red')\n",
    "vline1 = ax.axvline(x=1024,color = 'k')\n",
    "vline2 = ax.axvline(x=2048,color = 'green')\n",
    "line, = ax.plot(np.zeros(FRAMES_PER_BUFFER))\n",
    "# line2, = ax.plot(np.zeros(FRAMES_PER_BUFFER))\n",
    "plt.show()\n",
    "offset = []\n",
    "maxVal = []\n",
    "while True:\n",
    "    data = streamIn.read(FRAMES_PER_BUFFER)\n",
    "    data_int2 = np.frombuffer(data,dtype='<i2')\n",
    "    amdf_data = amdf_PE(data_int2)\n",
    "    line.set_ydata(amdf_data)\n",
    "#     offset.append(amdf_data[-2])\n",
    "#     maxVal.append(np.max(amdf_data))\n",
    "#     line2.set_ydata(data_int2)\n",
    "#     vline0.set_data(vline[0] , [0,1])\n",
    "#     vline1.set_data(vline[1] , [0,1])\n",
    "#     vline2.set_data(vline[2] , [0,1])\n",
    "    fig.canvas.draw()\n",
    "    fig.canvas.update()\n",
    "    fig.canvas.flush_events()"
   ]
  },
  {
   "cell_type": "code",
   "execution_count": 20,
   "metadata": {},
   "outputs": [
    {
     "data": {
      "text/plain": [
       "[<matplotlib.lines.Line2D at 0x131a058b390>]"
      ]
     },
     "execution_count": 20,
     "metadata": {},
     "output_type": "execute_result"
    }
   ],
   "source": [
    "maxVal = np.array(maxVal)\n",
    "offset = np.array(offset)\n",
    "ratio = maxVal/offset\n",
    "plt.plot(ratio)"
   ]
  }
 ],
 "metadata": {
  "kernelspec": {
   "display_name": "Python 3",
   "language": "python",
   "name": "python3"
  },
  "language_info": {
   "codemirror_mode": {
    "name": "ipython",
    "version": 3
   },
   "file_extension": ".py",
   "mimetype": "text/x-python",
   "name": "python",
   "nbconvert_exporter": "python",
   "pygments_lexer": "ipython3",
   "version": "3.7.3"
  }
 },
 "nbformat": 4,
 "nbformat_minor": 2
}
