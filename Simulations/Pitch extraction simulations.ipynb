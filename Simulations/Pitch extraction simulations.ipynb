{
 "cells": [
  {
   "cell_type": "markdown",
   "metadata": {},
   "source": [
    "# Pitch Extraction Simulation notebook "
   ]
  },
  {
   "cell_type": "markdown",
   "metadata": {},
   "source": [
    "This notebook is for testing of simulation blocks"
   ]
  },
  {
   "cell_type": "code",
   "execution_count": 2,
   "metadata": {
    "ExecuteTime": {
     "end_time": "2020-08-25T11:15:26.571766Z",
     "start_time": "2020-08-25T11:15:25.917896Z"
    }
   },
   "outputs": [],
   "source": [
    "import pyaudio\n",
    "import struct\n",
    "import matplotlib.pyplot as plt\n",
    "import matplotlib.animation as animation\n",
    "# from matplotlib import style\n",
    "import numpy as np\n",
    "import sys, select, os\n",
    "import time\n",
    "%matplotlib qt\n",
    "\n",
    "FORMAT = pyaudio.paInt16\n",
    "CHANNELS = 1 # Mono audio\n",
    "SAMPLE_RATE = 44100 # Sample rate\n",
    "WINDOW_SAMPLES = 2048 # Each window will be 2048 samples long at 22.68us per sample = 0.046s per window\n",
    "WINDOWS_PER_BUFFER = 1\n",
    "FRAMES_PER_BUFFER = WINDOW_SAMPLES*WINDOWS_PER_BUFFER"
   ]
  },
  {
   "cell_type": "code",
   "execution_count": 3,
   "metadata": {
    "ExecuteTime": {
     "end_time": "2020-08-25T11:15:26.633625Z",
     "start_time": "2020-08-25T11:15:26.572764Z"
    }
   },
   "outputs": [],
   "source": [
    "p = pyaudio.PyAudio()\n",
    "streamIn = p.open(\n",
    "        format = FORMAT,\n",
    "        channels = CHANNELS,\n",
    "        rate = SAMPLE_RATE,\n",
    "        input = True,\n",
    "        output = False,\n",
    "        frames_per_buffer = FRAMES_PER_BUFFER\n",
    "        )"
   ]
  },
  {
   "cell_type": "code",
   "execution_count": 4,
   "metadata": {
    "ExecuteTime": {
     "end_time": "2020-08-25T11:15:26.637591Z",
     "start_time": "2020-08-25T11:15:26.634600Z"
    }
   },
   "outputs": [],
   "source": [
    "# Slower method\n",
    "# %timeit data_int = struct.unpack(str(FRAMES_PER_BUFFER)+'h',data) "
   ]
  },
  {
   "cell_type": "markdown",
   "metadata": {},
   "source": [
    "### AMDF Pitch extractor function"
   ]
  },
  {
   "cell_type": "code",
   "execution_count": 23,
   "metadata": {
    "ExecuteTime": {
     "end_time": "2020-08-25T11:53:23.828824Z",
     "start_time": "2020-08-25T11:53:23.820840Z"
    }
   },
   "outputs": [],
   "source": [
    "# Function is defined as Dn = 1/L * sum^{L}_{k=0} |S_{j} - S{j-n}| with n = 0,1,2,3... \n",
    "#                                                              and Sj are the samples\n",
    "def amdf_PE(inputWindow):\n",
    "    D_tau = np.zeros((8,256))\n",
    "    minIndices = np.zeros(8)\n",
    "    freq = np.zeros(8)\n",
    "    vol = np.zeros(8)\n",
    "#     scale_factor = 1/len(inputWindow)\n",
    "    \n",
    "    for c in range(8):\n",
    "        inputWindow_block = inputWindow[c*256:(c+1)*256]\n",
    "        tau = np.arange(0,(len(inputWindow_block)-1))\n",
    "        for i,t in enumerate(tau):\n",
    "            temp = 0\n",
    "            shifted = np.zeros_like(inputWindow_block)\n",
    "            if t == 0:\n",
    "                shifted = inputWindow_block\n",
    "            else:\n",
    "                shifted[:t] = 0\n",
    "                shifted[t:] = inputWindow_block[:-t]\n",
    "    #         for i,win in enumerate(inputWindow):\n",
    "    #         temp =+ np.abs(win-shifted[i])\n",
    "            diffArr = np.abs(np.subtract(inputWindow_block,shifted))\n",
    "            temp = (np.sum(diffArr)/len(inputWindow_block))\n",
    "            D_tau[c,i] = temp\n",
    "        offset = np.argmax(D_tau[c,:])\n",
    "        minIndices[c] = (c*256+offset)+np.argmin(D_tau[c,offset:-1])\n",
    "        freq[c] = SAMPLE_RATE/(minIndices[c]-(c*256))\n",
    "        vol[c] = (np.mean(np.abs(inputWindow_block))/2**15)*100\n",
    "        \n",
    "#     minIndices[0] = np.argmin(D_tau[1:1024])\n",
    "#     minIndices[1] = 1024+np.argmin(D_tau[1025:2048])\n",
    "#     minIndices[2] = 2048+np.argmin(D_tau[2049:4096])\n",
    "#     print(minIndices)\n",
    "#     for i, data in enumerate(D_tau): \n",
    "#         try:\n",
    "#             if (D_tau[i-1]>data) and (D_tau[i+1]> data):\n",
    "#                 minIndices.append(i)\n",
    "#         except:\n",
    "#             if (D_tau[i-1])>data: \n",
    "#                 minIndices.append(i)\n",
    "    return D_tau.flatten(),minIndices, freq, vol"
   ]
  },
  {
   "cell_type": "code",
   "execution_count": 38,
   "metadata": {
    "ExecuteTime": {
     "end_time": "2020-08-25T12:22:32.889745Z",
     "start_time": "2020-08-25T12:22:32.848855Z"
    }
   },
   "outputs": [
    {
     "data": {
      "text/plain": [
       "[<matplotlib.lines.Line2D at 0x157667b1828>]"
      ]
     },
     "execution_count": 38,
     "metadata": {},
     "output_type": "execute_result"
    }
   ],
   "source": [
    "from sklearn.preprocessing import normalize\n",
    "x = np.random.rand(100)\n",
    "\n",
    "norm2 = normalize(x[:,np.newaxis], axis = 0).ravel()\n",
    "plt.plot(x)\n",
    "plt.plot(norm1)\n",
    "plt.plot(norm2)"
   ]
  },
  {
   "cell_type": "code",
   "execution_count": 23,
   "metadata": {},
   "outputs": [
    {
     "data": {
      "text/plain": [
       "5"
      ]
     },
     "execution_count": 23,
     "metadata": {},
     "output_type": "execute_result"
    }
   ],
   "source": [
    "a = np.array([19,2,13,45,5,6,7,28,9,5,5,5,31,11,1,52,5,5])\n",
    "vals, count = np.unique(a,return_counts = True)\n",
    "index = count.argmax()\n",
    "vals[index]"
   ]
  },
  {
   "cell_type": "markdown",
   "metadata": {},
   "source": [
    "### Stretch function\n",
    "Trying to determine an on-the-fly function generator that will compensate for the decay of the AMDF. The linear function does not work as the decay is not linear and approximation with a linear function does not yield good results yet\n",
    "\n",
    "Possible fixes:\n",
    "    - scaling factor in the denominator\n",
    "    - non-linear function (will require some form of interpolation)"
   ]
  },
  {
   "cell_type": "code",
   "execution_count": 6,
   "metadata": {},
   "outputs": [
    {
     "ename": "NameError",
     "evalue": "name 'D_tau' is not defined",
     "output_type": "error",
     "traceback": [
      "\u001b[1;31m---------------------------------------------------------------------------\u001b[0m",
      "\u001b[1;31mNameError\u001b[0m                                 Traceback (most recent call last)",
      "\u001b[1;32m<ipython-input-6-1401b09352b8>\u001b[0m in \u001b[0;36m<module>\u001b[1;34m\u001b[0m\n\u001b[0;32m      1\u001b[0m \u001b[1;31m## Stretch function (not currently working)\u001b[0m\u001b[1;33m\u001b[0m\u001b[1;33m\u001b[0m\u001b[1;33m\u001b[0m\u001b[0m\n\u001b[1;32m----> 2\u001b[1;33m \u001b[0mD_max\u001b[0m \u001b[1;33m=\u001b[0m \u001b[0mnp\u001b[0m\u001b[1;33m.\u001b[0m\u001b[0mmax\u001b[0m\u001b[1;33m(\u001b[0m\u001b[0mD_tau\u001b[0m\u001b[1;33m)\u001b[0m\u001b[1;33m\u001b[0m\u001b[1;33m\u001b[0m\u001b[0m\n\u001b[0m\u001b[0;32m      3\u001b[0m \u001b[0mstretch\u001b[0m \u001b[1;33m=\u001b[0m \u001b[0mnp\u001b[0m\u001b[1;33m.\u001b[0m\u001b[0mzeros\u001b[0m\u001b[1;33m(\u001b[0m\u001b[0mFRAMES_PER_BUFFER\u001b[0m\u001b[1;33m)\u001b[0m\u001b[1;33m\u001b[0m\u001b[1;33m\u001b[0m\u001b[0m\n\u001b[0;32m      4\u001b[0m \u001b[0mstretch\u001b[0m\u001b[1;33m[\u001b[0m\u001b[1;36m0\u001b[0m\u001b[1;33m]\u001b[0m \u001b[1;33m=\u001b[0m \u001b[1;36m1\u001b[0m\u001b[1;33m\u001b[0m\u001b[1;33m\u001b[0m\u001b[0m\n\u001b[0;32m      5\u001b[0m \u001b[1;32mfor\u001b[0m \u001b[0mn\u001b[0m \u001b[1;32min\u001b[0m \u001b[0mrange\u001b[0m\u001b[1;33m(\u001b[0m\u001b[1;36m1\u001b[0m\u001b[1;33m,\u001b[0m\u001b[0mFRAMES_PER_BUFFER\u001b[0m\u001b[1;33m)\u001b[0m\u001b[1;33m:\u001b[0m\u001b[1;33m\u001b[0m\u001b[1;33m\u001b[0m\u001b[0m\n",
      "\u001b[1;31mNameError\u001b[0m: name 'D_tau' is not defined"
     ]
    }
   ],
   "source": [
    "## Stretch function (not currently working)\n",
    "D_max = np.max(D_tau)\n",
    "stretch = np.zeros(FRAMES_PER_BUFFER)\n",
    "stretch[0] = 1\n",
    "for n in range(1,FRAMES_PER_BUFFER):\n",
    "    stretch[n] = D_max*((-1/(10*2*FRAMES_PER_BUFFER))*n)\n",
    "D_tau = (D_tau*stretch-(D_max/2))"
   ]
  },
  {
   "cell_type": "code",
   "execution_count": 43,
   "metadata": {},
   "outputs": [
    {
     "data": {
      "text/plain": [
       "[<matplotlib.lines.Line2D at 0x2884957ba90>]"
      ]
     },
     "execution_count": 43,
     "metadata": {},
     "output_type": "execute_result"
    }
   ],
   "source": [
    "plt.plot(stretch)"
   ]
  },
  {
   "cell_type": "code",
   "execution_count": 7,
   "metadata": {},
   "outputs": [
    {
     "name": "stdout",
     "output_type": "stream",
     "text": [
      "Time taken: 0.026920795440673828\n"
     ]
    }
   ],
   "source": [
    "data = streamIn.read(FRAMES_PER_BUFFER)\n",
    "data_int = np.frombuffer(data,dtype='<i2')\n",
    "# print(data_int)\n",
    "a = time.time()\n",
    "AMDF_data = amdf_PE(data_int)\n",
    "b = time.time()\n",
    "print(\"Time taken: {}\".format(b-a))\n",
    "# plt.plot(AMDF_data)"
   ]
  },
  {
   "cell_type": "markdown",
   "metadata": {},
   "source": [
    "### Plotting function"
   ]
  },
  {
   "cell_type": "code",
   "execution_count": 53,
   "metadata": {
    "ExecuteTime": {
     "end_time": "2020-08-25T12:40:11.720926Z",
     "start_time": "2020-08-25T12:40:08.563457Z"
    }
   },
   "outputs": [
    {
     "name": "stdout",
     "output_type": "stream",
     "text": [
      "3.044766902923584\n"
     ]
    },
    {
     "data": {
      "text/plain": [
       "([<matplotlib.axis.XTick at 0x1576742fe10>,\n",
       "  <matplotlib.axis.XTick at 0x1576742fdd8>,\n",
       "  <matplotlib.axis.XTick at 0x15767525c18>,\n",
       "  <matplotlib.axis.XTick at 0x15767444f98>,\n",
       "  <matplotlib.axis.XTick at 0x157674440f0>,\n",
       "  <matplotlib.axis.XTick at 0x15767444b38>,\n",
       "  <matplotlib.axis.XTick at 0x1576688b978>,\n",
       "  <matplotlib.axis.XTick at 0x1576688b630>,\n",
       "  <matplotlib.axis.XTick at 0x157661e4320>],\n",
       " [Text(0, 0, '0.0'),\n",
       "  Text(0, 0, '0.38'),\n",
       "  Text(0, 0, '0.76'),\n",
       "  Text(0, 0, '1.14'),\n",
       "  Text(0, 0, '1.52'),\n",
       "  Text(0, 0, '1.9'),\n",
       "  Text(0, 0, '2.28'),\n",
       "  Text(0, 0, '2.66')])"
      ]
     },
     "execution_count": 53,
     "metadata": {},
     "output_type": "execute_result"
    }
   ],
   "source": [
    "fig, ax = plt.subplots()\n",
    "ax.set_title(\"AMDF\")\n",
    "ax.set_ylim([-(2**8),(2**12)])\n",
    "vline0 = ax.axvline(x =   0.,color = 'red')\n",
    "vline01 = ax.axvline(x =   0.,color = 'red')\n",
    "vline1 = ax.axvline(x = 256,color = 'k')\n",
    "vline01 = ax.axvline(x = 256,color = 'k')\n",
    "vline2 = ax.axvline(x = 512,color = 'green')\n",
    "vline02 = ax.axvline(x = 512,color = 'green')\n",
    "vline3 = ax.axvline(x = 768,color = 'orange')\n",
    "vline03 = ax.axvline(x = 768,color = 'orange')\n",
    "vline4 = ax.axvline(x = 1024,color = 'pink')\n",
    "vline04 = ax.axvline(x = 1024,color = 'pink')\n",
    "vline5 = ax.axvline(x = 1280,color = 'purple')\n",
    "vline05 = ax.axvline(x = 1280,color = 'purple')\n",
    "vline6 = ax.axvline(x = 1536,color = 'yellow')\n",
    "vline06 = ax.axvline(x = 1536,color = 'yellow')\n",
    "vline7 = ax.axvline(x = 1792,color = 'cyan')\n",
    "vline07 = ax.axvline(x = 1792,color = 'cyan')\n",
    "line, = ax.plot(np.zeros(FRAMES_PER_BUFFER))\n",
    "\n",
    "# line1, = ax.plot(np.zeros(FRAMES_PER_BUFFER))\n",
    "# line2, = ax.plot(np.zeros(FRAMES_PER_BUFFER))\n",
    "plt.show()\n",
    "signal = []\n",
    "amdf_val = []\n",
    "stretch = []\n",
    "freqs = []\n",
    "vols = []\n",
    "timerStart = time.time()\n",
    "timer = 0\n",
    "while True:\n",
    "    data = streamIn.read(FRAMES_PER_BUFFER)\n",
    "    data_int2 = np.frombuffer(data,dtype='<i2')\n",
    "    amdf_data, vline, freqArr, vol = amdf_PE(data_int2)\n",
    "    line.set_ydata(amdf_data)\n",
    "    freqs.append(freqArr)\n",
    "    vols.append(vol)\n",
    "    timer = time.time()-timerStart\n",
    "    if timer>= 3.0:\n",
    "        finalTimer = time.time()-timerStart\n",
    "        break\n",
    "    vline0.set_data(vline[0] , [0,1])\n",
    "    vline1.set_data(vline[1] , [0,1])\n",
    "    vline2.set_data(vline[2] , [0,1])\n",
    "    vline3.set_data(vline[3] , [0,1])\n",
    "    vline4.set_data(vline[4] , [0,1])\n",
    "    vline5.set_data(vline[5] , [0,1])\n",
    "    vline6.set_data(vline[6] , [0,1])\n",
    "    vline7.set_data(vline[7] , [0,1])\n",
    "    fig.canvas.draw()\n",
    "    fig.canvas.update()\n",
    "    fig.canvas.flush_events()\n",
    "# plt.close(fig)\n",
    "freqs = np.array(freqs)\n",
    "freqs = freqs.flatten()\n",
    "vols = np.array(vols)\n",
    "vols = vols.flatten()\n",
    "vols_norm = np.interp(vols,(vols.min(), vols.max()), (0,100)).astype(int)\n",
    "print(finalTimer)\n",
    "xAxis = np.round(np.arange(0,timer,timer/8 ),2)\n",
    "xticker = np.arange(len(freqs))\n",
    "fig, ax1 = plt.subplots()\n",
    "fig.suptitle(\"Frequency progression of recorded audio\")\n",
    "ax1.set_ylabel(\"Frequency (Hz)\", color = \"green\")\n",
    "ax1.set_xlabel(\"Time (sampled at {} Hz)\".format(SAMPLE_RATE))\n",
    "ax1.plot(freqs, color = 'green')\n",
    "\n",
    "ax2 = ax1.twinx()\n",
    "ax2.set_ylabel(\"Volume as percentage of max (%)\", color = \"red\")\n",
    "ax2.plot(vols_norm, color = 'red')\n",
    "plt.xticks(xticker[::66], xAxis)"
   ]
  },
  {
   "cell_type": "code",
   "execution_count": 58,
   "metadata": {},
   "outputs": [
    {
     "data": {
      "text/plain": [
       "(8, 8)"
      ]
     },
     "execution_count": 58,
     "metadata": {},
     "output_type": "execute_result"
    }
   ],
   "source": [
    "len(xticker[::66]),len(xAxis)"
   ]
  },
  {
   "cell_type": "markdown",
   "metadata": {},
   "source": [
    "## Plotting BBBW output for accuracy and speed testing"
   ]
  },
  {
   "cell_type": "code",
   "execution_count": 54,
   "metadata": {
    "ExecuteTime": {
     "end_time": "2020-08-25T12:40:15.814699Z",
     "start_time": "2020-08-25T12:40:15.808721Z"
    }
   },
   "outputs": [
    {
     "data": {
      "text/plain": [
       "array([  7,   6,  10,   5,   7,   2,   4,   5,   6,   3,   2,   4,   5,\n",
       "         1,   1,   3,   2,   0,   2,   5,   0,   0,   0,   1,  65,  46,\n",
       "        37,  56,  69,  54,  57,  46,  52,  54,  59,  40,  48,  49,  50,\n",
       "        42,  42,  45,  42,  44,  37,  44,  47,  39,  36,  30,  35,  36,\n",
       "        35,  31,  30,  25,  34,  27,  25,  22,  28,  22,  25,  35,  27,\n",
       "        28,  41,  68,  75,  81,  79,  77,  67,  62,  59,  85,  61,  49,\n",
       "        64,  61,  53,  72,  91,  90,  65,  57,  41,  34,  42,  52,  40,\n",
       "        32,  49,  41,  50,  51,  61,  49,  65,  41,  61,  45,  46,  40,\n",
       "        34,  30,  28,  43,  24,  33,  34,  39,  40,  37,  41,  31,  30,\n",
       "        47,  38,  39,  52,  44,  50,  36,  43,  42,  37,  30,  25,  37,\n",
       "        32,  48,  35,  29,  30,  29,  27,  30,  41,  24,  24,  21,  23,\n",
       "        27,  28,  23,  27,  27,  24,  19,  22,  23,  15,  20,  18,  19,\n",
       "        16,  19,  17,  16,  17,   9,  15,  15,  18,  14,  24,  20,  14,\n",
       "        16,  15,  16,  14,  27,  35,  29,  36,  31,  30,  31,  34,  36,\n",
       "        41,  27,  28,  28,  37,  35,  36,  37,  41,  44,  50,  44,  42,\n",
       "        40,  43,  35,  32,  32,  31,  56,  61,  78,  53,  49,  37,  47,\n",
       "        40,  28,  32,  29,  30,  21,  22,  18,  15,  12,  17,  26,  24,\n",
       "        20,  16,  25,  16,  20,  24,  37,  28,  57,  49,  59,  60,  44,\n",
       "        56,  51,  44,  57,  43,  49,  31,  41,  24,  23,  31,  19,  30,\n",
       "        38,  38,  38,  38,  28,  30,  26,  36,  46,  37,  33,  29,  36,\n",
       "        46,  32,  33,  40,  38,  34,  39,  39,  36,  30,  33,  40,  39,\n",
       "        28,  36,  45,  53,  39,  37,  52,  51,  47,  31,  51,  67,  59,\n",
       "        74,  41,  28,  30,  30,  34,  41,  43,  29,  32,  41,  30,  30,\n",
       "        33,  28,  36,  37,  27,  33,  39,  34,  40,  37,  28,  39,  42,\n",
       "        58,  37,  37,  45,  43,  41,  56,  39,  43,  46,  52,  45,  48,\n",
       "        41,  41,  42,  37,  52,  51,  34,  40,  45,  49,  48,  31,  38,\n",
       "        37,  37,  38,  48,  55,  44,  43,  28,  33,  60,  37,  43,  43,\n",
       "        53,  61,  56,  39,  42,  59,  47,  55,  46,  58,  37,  50,  47,\n",
       "        78,  57,  58,  46,  46,  53,  65,  36,  41,  48,  35,  66,  48,\n",
       "        68,  49,  51,  80,  85,  53,  41,  51,  69,  55,  68,  57,  78,\n",
       "        73,  70,  65, 100,  77,  56,  47,  47,  70,  76,  72,  57,  68,\n",
       "        55,  57,  67,  61,  38,  31,  34,  42,  54,  53,  54,  55,  45,\n",
       "        57,  53,  48,  59,  46,  60,  49,  51,  74,  77,  48,  43,  40,\n",
       "        40,  49,  49,  55,  63,  54,  44,  40,  62,  48,  47,  42,  41,\n",
       "        34,  36,  38,  51,  50,  40,  51,  44,  34,  45,  34,  43,  31,\n",
       "        43,  33,  42,  44,  45,  48,  38,  42,  51,  39,  50,  52,  43,\n",
       "        34,  58,  47,  42,  39,  43,  50,  53,  62,  60,  52,  60,  47,\n",
       "        41,  51,  44,  50,  37,  45,  42,  55,  43,  41,  43,  48,  46,\n",
       "        62,  40,  40,  40,  44,  51,  42,  42,  41,  45,  48,  62,  57,\n",
       "        64,  67,  81,  67,  79,  59,  75,  74,  54,  65,  55,  64,  43,\n",
       "        45,  48,  45,  37,  52,  33,  35,  32,  48,  39,  59,  43,  48,\n",
       "        45,  39,  37])"
      ]
     },
     "execution_count": 54,
     "metadata": {},
     "output_type": "execute_result"
    }
   ],
   "source": [
    "vols_norm"
   ]
  }
 ],
 "metadata": {
  "kernelspec": {
   "display_name": "Python 3",
   "language": "python",
   "name": "python3"
  },
  "language_info": {
   "codemirror_mode": {
    "name": "ipython",
    "version": 3
   },
   "file_extension": ".py",
   "mimetype": "text/x-python",
   "name": "python",
   "nbconvert_exporter": "python",
   "pygments_lexer": "ipython3",
   "version": "3.7.3"
  }
 },
 "nbformat": 4,
 "nbformat_minor": 2
}
