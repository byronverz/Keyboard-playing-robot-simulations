{
 "cells": [
  {
   "cell_type": "markdown",
   "metadata": {},
   "source": [
    "# Pitch Extraction Simulation notebook "
   ]
  },
  {
   "cell_type": "markdown",
   "metadata": {},
   "source": [
    "This notebook is for testing of simulation blocks"
   ]
  },
  {
   "cell_type": "code",
   "execution_count": 74,
   "metadata": {
    "ExecuteTime": {
     "end_time": "2020-08-27T11:41:38.014061Z",
     "start_time": "2020-08-27T11:41:38.008077Z"
    }
   },
   "outputs": [],
   "source": [
    "import pyaudio\n",
    "import struct\n",
    "import matplotlib.pyplot as plt\n",
    "import matplotlib.animation as animation\n",
    "# from matplotlib import style\n",
    "import numpy as np\n",
    "import sys, select, os\n",
    "import time\n",
    "import csv\n",
    "%matplotlib qt\n",
    "\n",
    "FORMAT = pyaudio.paInt16\n",
    "CHANNELS = 1 # Mono audio\n",
    "SAMPLE_RATE = 44100 # Sample rate\n",
    "WINDOW_SAMPLES = 2048 # Each window will be 2048 samples long at 22.68us per sample = 0.046s per window\n",
    "WINDOWS_PER_BUFFER = 1\n",
    "FRAMES_PER_BUFFER = WINDOW_SAMPLES*WINDOWS_PER_BUFFER"
   ]
  },
  {
   "cell_type": "code",
   "execution_count": 63,
   "metadata": {
    "ExecuteTime": {
     "end_time": "2020-08-27T09:34:05.853130Z",
     "start_time": "2020-08-27T09:34:05.811243Z"
    }
   },
   "outputs": [],
   "source": [
    "p = pyaudio.PyAudio()\n",
    "streamIn = p.open(\n",
    "        format = FORMAT,\n",
    "        channels = CHANNELS,\n",
    "        rate = SAMPLE_RATE,\n",
    "        input = True,\n",
    "        output = False,\n",
    "        frames_per_buffer = FRAMES_PER_BUFFER\n",
    "        )"
   ]
  },
  {
   "cell_type": "code",
   "execution_count": 64,
   "metadata": {
    "ExecuteTime": {
     "end_time": "2020-08-27T09:34:06.138948Z",
     "start_time": "2020-08-27T09:34:06.135949Z"
    }
   },
   "outputs": [],
   "source": [
    "# Slower method\n",
    "# %timeit data_int = struct.unpack(str(FRAMES_PER_BUFFER)+'h',data) "
   ]
  },
  {
   "cell_type": "markdown",
   "metadata": {},
   "source": [
    "### AMDF Pitch extractor function"
   ]
  },
  {
   "cell_type": "code",
   "execution_count": 65,
   "metadata": {
    "ExecuteTime": {
     "end_time": "2020-08-27T09:34:06.904918Z",
     "start_time": "2020-08-27T09:34:06.894949Z"
    }
   },
   "outputs": [],
   "source": [
    "# Function is defined as Dn = 1/L * sum^{L}_{k=0} |S_{j} - S{j-n}| with n = 0,1,2,3... \n",
    "#                                                              and Sj are the samples\n",
    "def amdf_PE(inputWindow):\n",
    "    D_tau = np.zeros((8,256))\n",
    "    minIndices = np.zeros(8)\n",
    "    freq = np.zeros(8)\n",
    "    vol = np.zeros(8)\n",
    "#     scale_factor = 1/len(inputWindow)\n",
    "    \n",
    "    for c in range(8):\n",
    "        inputWindow_block = inputWindow[c*256:(c+1)*256]\n",
    "        tau = np.arange(0,(len(inputWindow_block)-1))\n",
    "        for i,t in enumerate(tau):\n",
    "            temp = 0\n",
    "            shifted = np.zeros_like(inputWindow_block)\n",
    "            if t == 0:\n",
    "                shifted = inputWindow_block\n",
    "            else:\n",
    "                shifted[:t] = 0\n",
    "                shifted[t:] = inputWindow_block[:-t]\n",
    "    #         for i,win in enumerate(inputWindow):\n",
    "    #         temp =+ np.abs(win-shifted[i])\n",
    "            diffArr = np.abs(np.subtract(inputWindow_block,shifted))\n",
    "            temp = (np.sum(diffArr)/len(inputWindow_block))\n",
    "            D_tau[c,i] = temp\n",
    "        offset = np.argmax(D_tau[c,:])\n",
    "        minIndices[c] = (c*256+offset)+np.argmin(D_tau[c,offset:-1])\n",
    "        freq[c] = SAMPLE_RATE/(minIndices[c]-(c*256))\n",
    "        vol[c] = (np.mean(np.abs(inputWindow_block))/2**15)\n",
    "        \n",
    "#     minIndices[0] = np.argmin(D_tau[1:1024])\n",
    "#     minIndices[1] = 1024+np.argmin(D_tau[1025:2048])\n",
    "#     minIndices[2] = 2048+np.argmin(D_tau[2049:4096])\n",
    "#     print(minIndices)\n",
    "#     for i, data in enumerate(D_tau): \n",
    "#         try:\n",
    "#             if (D_tau[i-1]>data) and (D_tau[i+1]> data):\n",
    "#                 minIndices.append(i)\n",
    "#         except:\n",
    "#             if (D_tau[i-1])>data: \n",
    "#                 minIndices.append(i)\n",
    "    return D_tau.flatten(),minIndices, freq, vol"
   ]
  },
  {
   "cell_type": "code",
   "execution_count": 38,
   "metadata": {
    "ExecuteTime": {
     "end_time": "2020-08-25T12:22:32.889745Z",
     "start_time": "2020-08-25T12:22:32.848855Z"
    }
   },
   "outputs": [
    {
     "data": {
      "text/plain": [
       "[<matplotlib.lines.Line2D at 0x157667b1828>]"
      ]
     },
     "execution_count": 38,
     "metadata": {},
     "output_type": "execute_result"
    }
   ],
   "source": [
    "from sklearn.preprocessing import normalize\n",
    "x = np.random.rand(100)\n",
    "\n",
    "norm2 = normalize(x[:,np.newaxis], axis = 0).ravel()\n",
    "plt.plot(x)\n",
    "plt.plot(norm1)\n",
    "plt.plot(norm2)"
   ]
  },
  {
   "cell_type": "code",
   "execution_count": 23,
   "metadata": {},
   "outputs": [
    {
     "data": {
      "text/plain": [
       "5"
      ]
     },
     "execution_count": 23,
     "metadata": {},
     "output_type": "execute_result"
    }
   ],
   "source": [
    "a = np.array([19,2,13,45,5,6,7,28,9,5,5,5,31,11,1,52,5,5])\n",
    "vals, count = np.unique(a,return_counts = True)\n",
    "index = count.argmax()\n",
    "vals[index]"
   ]
  },
  {
   "cell_type": "markdown",
   "metadata": {},
   "source": [
    "### Stretch function\n",
    "Trying to determine an on-the-fly function generator that will compensate for the decay of the AMDF. The linear function does not work as the decay is not linear and approximation with a linear function does not yield good results yet\n",
    "\n",
    "Possible fixes:\n",
    "    - scaling factor in the denominator\n",
    "    - non-linear function (will require some form of interpolation)"
   ]
  },
  {
   "cell_type": "code",
   "execution_count": 6,
   "metadata": {},
   "outputs": [
    {
     "ename": "NameError",
     "evalue": "name 'D_tau' is not defined",
     "output_type": "error",
     "traceback": [
      "\u001b[1;31m---------------------------------------------------------------------------\u001b[0m",
      "\u001b[1;31mNameError\u001b[0m                                 Traceback (most recent call last)",
      "\u001b[1;32m<ipython-input-6-1401b09352b8>\u001b[0m in \u001b[0;36m<module>\u001b[1;34m\u001b[0m\n\u001b[0;32m      1\u001b[0m \u001b[1;31m## Stretch function (not currently working)\u001b[0m\u001b[1;33m\u001b[0m\u001b[1;33m\u001b[0m\u001b[1;33m\u001b[0m\u001b[0m\n\u001b[1;32m----> 2\u001b[1;33m \u001b[0mD_max\u001b[0m \u001b[1;33m=\u001b[0m \u001b[0mnp\u001b[0m\u001b[1;33m.\u001b[0m\u001b[0mmax\u001b[0m\u001b[1;33m(\u001b[0m\u001b[0mD_tau\u001b[0m\u001b[1;33m)\u001b[0m\u001b[1;33m\u001b[0m\u001b[1;33m\u001b[0m\u001b[0m\n\u001b[0m\u001b[0;32m      3\u001b[0m \u001b[0mstretch\u001b[0m \u001b[1;33m=\u001b[0m \u001b[0mnp\u001b[0m\u001b[1;33m.\u001b[0m\u001b[0mzeros\u001b[0m\u001b[1;33m(\u001b[0m\u001b[0mFRAMES_PER_BUFFER\u001b[0m\u001b[1;33m)\u001b[0m\u001b[1;33m\u001b[0m\u001b[1;33m\u001b[0m\u001b[0m\n\u001b[0;32m      4\u001b[0m \u001b[0mstretch\u001b[0m\u001b[1;33m[\u001b[0m\u001b[1;36m0\u001b[0m\u001b[1;33m]\u001b[0m \u001b[1;33m=\u001b[0m \u001b[1;36m1\u001b[0m\u001b[1;33m\u001b[0m\u001b[1;33m\u001b[0m\u001b[0m\n\u001b[0;32m      5\u001b[0m \u001b[1;32mfor\u001b[0m \u001b[0mn\u001b[0m \u001b[1;32min\u001b[0m \u001b[0mrange\u001b[0m\u001b[1;33m(\u001b[0m\u001b[1;36m1\u001b[0m\u001b[1;33m,\u001b[0m\u001b[0mFRAMES_PER_BUFFER\u001b[0m\u001b[1;33m)\u001b[0m\u001b[1;33m:\u001b[0m\u001b[1;33m\u001b[0m\u001b[1;33m\u001b[0m\u001b[0m\n",
      "\u001b[1;31mNameError\u001b[0m: name 'D_tau' is not defined"
     ]
    }
   ],
   "source": [
    "## Stretch function (not currently working)\n",
    "D_max = np.max(D_tau)\n",
    "stretch = np.zeros(FRAMES_PER_BUFFER)\n",
    "stretch[0] = 1\n",
    "for n in range(1,FRAMES_PER_BUFFER):\n",
    "    stretch[n] = D_max*((-1/(10*2*FRAMES_PER_BUFFER))*n)\n",
    "D_tau = (D_tau*stretch-(D_max/2))"
   ]
  },
  {
   "cell_type": "code",
   "execution_count": 43,
   "metadata": {},
   "outputs": [
    {
     "data": {
      "text/plain": [
       "[<matplotlib.lines.Line2D at 0x2884957ba90>]"
      ]
     },
     "execution_count": 43,
     "metadata": {},
     "output_type": "execute_result"
    }
   ],
   "source": [
    "plt.plot(stretch)"
   ]
  },
  {
   "cell_type": "code",
   "execution_count": 7,
   "metadata": {},
   "outputs": [
    {
     "name": "stdout",
     "output_type": "stream",
     "text": [
      "Time taken: 0.026920795440673828\n"
     ]
    }
   ],
   "source": [
    "data = streamIn.read(FRAMES_PER_BUFFER)\n",
    "data_int = np.frombuffer(data,dtype='<i2')\n",
    "# print(data_int)\n",
    "a = time.time()\n",
    "AMDF_data = amdf_PE(data_int)\n",
    "b = time.time()\n",
    "print(\"Time taken: {}\".format(b-a))\n",
    "# plt.plot(AMDF_data)"
   ]
  },
  {
   "cell_type": "markdown",
   "metadata": {},
   "source": [
    "### Plotting function"
   ]
  },
  {
   "cell_type": "code",
   "execution_count": 79,
   "metadata": {
    "ExecuteTime": {
     "end_time": "2020-08-27T11:53:33.371702Z",
     "start_time": "2020-08-27T11:53:30.249141Z"
    }
   },
   "outputs": [
    {
     "name": "stdout",
     "output_type": "stream",
     "text": [
      "3.006865978240967\n"
     ]
    },
    {
     "data": {
      "text/plain": [
       "([<matplotlib.axis.XTick at 0x1570018a748>,\n",
       "  <matplotlib.axis.XTick at 0x1570018ab00>,\n",
       "  <matplotlib.axis.XTick at 0x157029c9908>,\n",
       "  <matplotlib.axis.XTick at 0x15701a12518>,\n",
       "  <matplotlib.axis.XTick at 0x15701a129b0>,\n",
       "  <matplotlib.axis.XTick at 0x15701a12828>,\n",
       "  <matplotlib.axis.XTick at 0x15701a1b0f0>,\n",
       "  <matplotlib.axis.XTick at 0x15701a1b518>],\n",
       " [Text(0, 0, '0.0'),\n",
       "  Text(0, 0, '0.38'),\n",
       "  Text(0, 0, '0.75'),\n",
       "  Text(0, 0, '1.13'),\n",
       "  Text(0, 0, '1.5'),\n",
       "  Text(0, 0, '1.88'),\n",
       "  Text(0, 0, '2.26'),\n",
       "  Text(0, 0, '2.63')])"
      ]
     },
     "execution_count": 79,
     "metadata": {},
     "output_type": "execute_result"
    }
   ],
   "source": [
    "fig, ax = plt.subplots()\n",
    "ax.set_title(\"AMDF\")\n",
    "ax.set_ylim([-(2**8),(2**12)])\n",
    "vline0 = ax.axvline(x =   0.,color = 'red')\n",
    "vline01 = ax.axvline(x =   0.,color = 'red')\n",
    "vline1 = ax.axvline(x = 256,color = 'k')\n",
    "vline01 = ax.axvline(x = 256,color = 'k')\n",
    "vline2 = ax.axvline(x = 512,color = 'green')\n",
    "vline02 = ax.axvline(x = 512,color = 'green')\n",
    "vline3 = ax.axvline(x = 768,color = 'orange')\n",
    "vline03 = ax.axvline(x = 768,color = 'orange')\n",
    "vline4 = ax.axvline(x = 1024,color = 'pink')\n",
    "vline04 = ax.axvline(x = 1024,color = 'pink')\n",
    "vline5 = ax.axvline(x = 1280,color = 'purple')\n",
    "vline05 = ax.axvline(x = 1280,color = 'purple')\n",
    "vline6 = ax.axvline(x = 1536,color = 'yellow')\n",
    "vline06 = ax.axvline(x = 1536,color = 'yellow')\n",
    "vline7 = ax.axvline(x = 1792,color = 'cyan')\n",
    "vline07 = ax.axvline(x = 1792,color = 'cyan')\n",
    "line, = ax.plot(np.zeros(FRAMES_PER_BUFFER))\n",
    "\n",
    "# line1, = ax.plot(np.zeros(FRAMES_PER_BUFFER))\n",
    "# line2, = ax.plot(np.zeros(FRAMES_PER_BUFFER))\n",
    "plt.show()\n",
    "signal = []\n",
    "amdf_val = []\n",
    "stretch = []\n",
    "freqs = []\n",
    "vols = []\n",
    "timerStart = time.time()\n",
    "timer = 0\n",
    "while True:\n",
    "    data = streamIn.read(FRAMES_PER_BUFFER)\n",
    "    data_int2 = np.frombuffer(data,dtype='<i2')\n",
    "    amdf_data, vline, freqArr, vol = amdf_PE(data_int2)\n",
    "    line.set_ydata(amdf_data)\n",
    "    freqs.append(freqArr)\n",
    "    vols.append(vol)\n",
    "    timer = time.time()-timerStart\n",
    "    if timer>= 3.0:\n",
    "        finalTimer = time.time()-timerStart\n",
    "        break\n",
    "    vline0.set_data(vline[0] , [0,1])\n",
    "    vline1.set_data(vline[1] , [0,1])\n",
    "    vline2.set_data(vline[2] , [0,1])\n",
    "    vline3.set_data(vline[3] , [0,1])\n",
    "    vline4.set_data(vline[4] , [0,1])\n",
    "    vline5.set_data(vline[5] , [0,1])\n",
    "    vline6.set_data(vline[6] , [0,1])\n",
    "    vline7.set_data(vline[7] , [0,1])\n",
    "    fig.canvas.draw()\n",
    "    fig.canvas.update()\n",
    "    fig.canvas.flush_events()\n",
    "# plt.close(fig)\n",
    "freqs = np.array(freqs)\n",
    "freqs = freqs.flatten()\n",
    "vols = np.array(vols)\n",
    "vols = vols.flatten()\n",
    "vols /= np.max(vols) \n",
    "print(finalTimer)\n",
    "xAxis = np.round(np.arange(0,timer,timer/8 ),2)\n",
    "xticker = np.arange(len(freqs))\n",
    "fig, ax1 = plt.subplots()\n",
    "fig.suptitle(\"Frequency progression of recorded audio\")\n",
    "ax1.set_ylabel(\"Frequency (Hz)\", color = \"green\")\n",
    "ax1.set_xlabel(\"Time (sampled at {} Hz)\".format(SAMPLE_RATE))\n",
    "ax1.plot(freqs, color = 'green')\n",
    "\n",
    "ax2 = ax1.twinx()\n",
    "ax2.set_ylabel(\"Volume as percentage of max (%)\", color = \"red\")\n",
    "ax2.plot(vols*100, color = 'red')\n",
    "plt.xticks(xticker[::66], xAxis)"
   ]
  },
  {
   "cell_type": "code",
   "execution_count": 81,
   "metadata": {
    "ExecuteTime": {
     "end_time": "2020-08-27T11:54:51.883479Z",
     "start_time": "2020-08-27T11:54:51.874503Z"
    }
   },
   "outputs": [],
   "source": [
    "with open('frequency_list.csv','w') as file1:\n",
    "    np.savetxt(file1, freqs, fmt = '%10.3f', delimiter = ',')\n",
    "\n",
    "with open('volume_list.csv','w') as file2:\n",
    "    np.savetxt(file2, vols, fmt= '%10.3f', delimiter = ',')"
   ]
  },
  {
   "cell_type": "code",
   "execution_count": 82,
   "metadata": {
    "ExecuteTime": {
     "end_time": "2020-08-27T12:13:17.208351Z",
     "start_time": "2020-08-27T12:13:17.204337Z"
    }
   },
   "outputs": [
    {
     "data": {
      "text/plain": [
       "array([0.  , 0.38, 0.75, 1.13, 1.5 , 1.88, 2.26, 2.63])"
      ]
     },
     "execution_count": 82,
     "metadata": {},
     "output_type": "execute_result"
    }
   ],
   "source": [
    "xAxis"
   ]
  },
  {
   "cell_type": "markdown",
   "metadata": {},
   "source": [
    "## Plotting BBBW output for accuracy and speed testing"
   ]
  },
  {
   "cell_type": "code",
   "execution_count": 77,
   "metadata": {
    "ExecuteTime": {
     "end_time": "2020-08-27T11:48:07.690251Z",
     "start_time": "2020-08-27T11:48:07.683269Z"
    }
   },
   "outputs": [
    {
     "name": "stdout",
     "output_type": "stream",
     "text": [
      "[1575.         1575.         1575.         1575.         1575.\n",
      " 1575.         1575.         1575.         1575.         1575.\n",
      " 1575.         1575.         1575.         1575.         1520.68965517\n",
      "  177.10843373  177.10843373 1575.          787.5         173.62204724\n",
      "  184.51882845  189.27038627  173.62204724  179.26829268 2450.\n",
      "  173.62204724  173.62204724  175.          173.62204724  223.85786802\n",
      "  173.62204724  188.46153846  173.62204724  253.44827586  173.62204724\n",
      "  254.9132948   254.9132948   254.9132948   254.9132948   253.44827586\n",
      "  262.5         253.44827586  256.39534884  253.44827586  256.39534884\n",
      "  254.9132948   256.39534884  257.89473684  259.41176471  256.39534884\n",
      "  257.89473684  256.39534884  257.89473684  257.89473684  259.41176471\n",
      "  259.41176471  223.85786802  250.56818182  223.85786802  243.64640884\n",
      "  196.875       173.62204724  173.62204724  191.73913043  188.46153846\n",
      "  173.62204724  373.72881356  267.27272727  469.14893617  194.27312775\n",
      "  173.62204724  173.62204724  450.          260.94674556  252.\n",
      "  173.62204724  490.          273.91304348  272.22222222  264.07185629\n",
      "  277.35849057  192.57641921  177.10843373  588.          177.10843373\n",
      "  187.65957447  174.3083004   253.44827586  173.62204724  173.62204724\n",
      "  180.          173.62204724  173.62204724  537.80487805  173.62204724\n",
      "  173.62204724  173.62204724  173.62204724  201.36986301  173.62204724\n",
      "  196.875       173.62204724  173.62204724  173.62204724  175.\n",
      "  173.62204724  173.62204724  173.62204724  173.62204724  188.46153846\n",
      "  173.62204724  183.75        173.62204724  180.73770492  173.62204724\n",
      "  237.09677419  173.62204724  207.04225352  173.62204724  180.73770492\n",
      "  195.13274336  186.86440678  352.8         484.61538462  200.45454545\n",
      "  193.42105263  173.62204724  341.86046512  173.62204724  175.69721116\n",
      "  186.86440678  464.21052632  200.45454545  290.13157895  173.62204724\n",
      "  203.22580645  173.62204724  234.57446809  380.17241379  495.50561798\n",
      "  249.15254237  192.57641921  173.62204724  213.04347826  183.75\n",
      "  197.75784753  501.13636364  588.          501.13636364  580.26315789\n",
      "  495.50561798  173.62204724  188.46153846  580.26315789  260.94674556\n",
      "  512.79069767  173.62204724  173.62204724  174.3083004   173.62204724\n",
      "  187.65957447  173.62204724  295.97315436  174.3083004   173.62204724\n",
      "  252.          176.4         173.62204724  173.62204724  173.62204724\n",
      "  175.69721116  512.79069767  190.90909091  267.27272727  182.98755187\n",
      "  175.69721116  265.6626506   260.94674556  173.62204724  595.94594595\n",
      "  479.34782609  181.48148148  264.07185629  264.07185629  173.62204724\n",
      "  192.57641921  189.27038627  237.09677419  175.          495.50561798\n",
      "  484.61538462  428.15533981  501.13636364  490.          196.875\n",
      "  173.62204724  257.89473684  484.61538462  580.26315789  243.64640884\n",
      "  183.75        621.12676056  187.65957447  180.73770492  173.62204724\n",
      "  588.          265.6626506   186.07594937  173.62204724  177.10843373\n",
      "  484.61538462  199.54751131  181.48148148  484.61538462  264.07185629\n",
      "  190.0862069   588.          237.09677419  173.62204724  173.62204724\n",
      "  173.62204724  173.62204724  518.82352941  173.62204724  173.62204724\n",
      "  217.24137931  173.62204724  173.62204724  531.3253012   184.51882845\n",
      "  176.4         254.9132948   173.62204724  174.3083004   282.69230769\n",
      "  173.62204724  188.46153846  173.62204724  235.82887701  173.62204724\n",
      "  247.75280899  243.64640884  239.67391304  240.98360656  240.98360656\n",
      "  506.89655172  234.57446809  464.21052632  238.37837838  459.375\n",
      "  220.5         228.49740933  262.5         225.          211.00478469\n",
      "  350.          199.54751131  173.62204724  177.10843373  176.4\n",
      "  225.          227.31958763  174.3083004   484.61538462  177.82258065\n",
      "  173.62204724  416.03773585  217.24137931  173.62204724  226.15384615\n",
      "  204.16666667  206.07476636  173.62204724  173.62204724  639.13043478\n",
      "  174.3083004   219.40298507  722.95081967  190.0862069   173.62204724\n",
      "  173.62204724  199.54751131  173.62204724  176.4         185.29411765\n",
      "  196.          173.62204724  173.62204724  175.69721116  205.11627907\n",
      "  173.62204724  182.98755187  441.          173.62204724  247.75280899\n",
      "  173.62204724  187.65957447  173.62204724  173.62204724  193.42105263\n",
      "  174.3083004   175.69721116  173.62204724  173.62204724  178.54251012\n",
      "  173.62204724  181.48148148  173.62204724  185.29411765  173.62204724\n",
      "  173.62204724  173.62204724  173.62204724  177.10843373  173.62204724\n",
      "  182.23140496 4410.          179.26829268  173.62204724  180.73770492\n",
      "  173.62204724  173.62204724  186.07594937  186.07594937  239.67391304\n",
      "  178.54251012  192.57641921  230.89005236  194.27312775  173.62204724\n",
      "  265.6626506   173.62204724  185.29411765  173.62204724  179.26829268\n",
      "  173.62204724  214.0776699   173.62204724  173.62204724  173.62204724\n",
      "  173.62204724  173.62204724  242.30769231  173.62204724  537.80487805\n",
      "  506.89655172  565.38461538  544.44444444  531.3253012   173.62204724\n",
      "  537.80487805  544.44444444  173.62204724  256.39534884  182.23140496\n",
      "  181.48148148  173.62204724  234.57446809  186.86440678  174.3083004\n",
      "  173.62204724  249.15254237  173.62204724  249.15254237  212.01923077\n",
      "  175.          223.85786802  173.62204724  197.75784753  173.62204724\n",
      "  173.62204724  506.89655172  185.29411765  506.89655172  235.82887701\n",
      "  495.50561798  178.54251012  173.62204724  173.62204724  174.3083004\n",
      "  175.69721116  179.26829268  282.69230769  173.62204724  180.\n",
      "  182.23140496  506.89655172  195.13274336  180.          173.62204724\n",
      "  173.62204724  228.49740933  205.11627907  173.62204724  173.62204724\n",
      "  205.11627907  290.13157895  364.46280992  199.54751131  445.45454545\n",
      "  230.89005236  249.15254237  250.56818182  177.82258065  238.37837838\n",
      "  228.49740933  243.64640884  243.64640884  240.98360656  254.9132948\n",
      "  250.56818182  262.5         245.          262.5         202.29357798\n",
      "  262.5         245.          250.56818182  259.41176471  245.\n",
      "  279.11392405  249.15254237  282.69230769  254.9132948   254.9132948\n",
      "  265.6626506   262.5         257.89473684  253.44827586  267.27272727\n",
      "  252.          270.55214724  268.90243902  265.6626506   173.62204724\n",
      "  238.37837838  238.37837838  264.07185629  256.39534884  262.5\n",
      "  268.90243902  260.94674556  262.5         260.94674556  262.5\n",
      "  259.41176471  257.89473684  207.04225352  256.39534884  253.44827586\n",
      "  249.15254237  260.94674556  232.10526316  336.64122137  254.9132948\n",
      "  175.          223.85786802  173.62204724  237.09677419  173.62204724\n",
      "  186.86440678  227.31958763  192.57641921  194.27312775  173.62204724\n",
      "  254.9132948   240.98360656  192.57641921  226.15384615  198.64864865\n",
      "  182.98755187  186.07594937  177.10843373  308.39160839  257.89473684\n",
      "  217.24137931  572.72727273  179.26829268  760.34482759  173.62204724\n",
      "  185.29411765  196.          174.3083004   700.          173.62204724\n",
      "  506.89655172  174.3083004   173.62204724  173.62204724  173.62204724\n",
      "  464.21052632  175.          173.62204724  175.          239.67391304\n",
      "  194.27312775  226.15384615  173.62204724  234.57446809  247.75280899\n",
      "  234.57446809  174.3083004   215.12195122  181.48148148  173.62204724\n",
      "  173.62204724  173.62204724  187.65957447  173.62204724  173.62204724\n",
      "  173.62204724  180.          173.62204724  173.62204724  190.0862069\n",
      "  286.36363636  173.62204724  226.15384615  295.97315436  176.4       ]\n"
     ]
    }
   ],
   "source": [
    "print(freqs)"
   ]
  }
 ],
 "metadata": {
  "kernelspec": {
   "display_name": "Python 3",
   "language": "python",
   "name": "python3"
  },
  "language_info": {
   "codemirror_mode": {
    "name": "ipython",
    "version": 3
   },
   "file_extension": ".py",
   "mimetype": "text/x-python",
   "name": "python",
   "nbconvert_exporter": "python",
   "pygments_lexer": "ipython3",
   "version": "3.7.3"
  }
 },
 "nbformat": 4,
 "nbformat_minor": 2
}
