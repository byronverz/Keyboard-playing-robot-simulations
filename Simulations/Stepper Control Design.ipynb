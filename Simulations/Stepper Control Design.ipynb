{
 "cells": [
  {
   "cell_type": "markdown",
   "metadata": {},
   "source": [
    "# Simulation of Stepper Control methods"
   ]
  },
  {
   "cell_type": "code",
   "execution_count": 1,
   "metadata": {},
   "outputs": [],
   "source": [
    "import numpy as np\n",
    "import matplotlib.pyplot as plt\n",
    "import time"
   ]
  },
  {
   "cell_type": "markdown",
   "metadata": {},
   "source": [
    "### Input will be a frequency with a time period\n",
    "stepFunc( frequency, time_to_stay): \n",
    "    - frequency: the next frequency (key) to which the gantry needs to move\n",
    "    - time_to_stay: The time that the gantry must spend at the key (in seconds)\n",
    "    \n",
    "*** Maybe add volume control and key press duration to single function ***"
   ]
  },
  {
   "cell_type": "code",
   "execution_count": null,
   "metadata": {},
   "outputs": [],
   "source": [
    "class stepperMotor(self, calibrate_f, const):\n",
    "    def __init__(self, calibrate_f):\n",
    "        self.calibration_f = calibrate_f\n",
    "        self.previous_frequency = calibrate_f\n",
    "        self.conversion_const = conversion_const\n",
    "        autohome(calibrate_f)\n",
    "        \n",
    "    def autohome(self,cal_freq):\n",
    "        ## Homing function moves gantry until distance sensor reads out that the gantry \n",
    "        ## is at the end of the keyboard\n",
    "    def stepFunc(self,frequency, time_to_stay):\n",
    "        self.previous_frequency = self.calibration_f # calibration frequency will be the highest/lowest \n",
    "                                                     # frequency where the gantry will begin from\n",
    "        self.delta_f = previous_frequency - frequency\n",
    "        if delta_f < 0 :\n",
    "            print(\"DIR PIN SET TO LOW\")\n",
    "            stepMotor(delta_f)\n",
    "            time.sleep(time_to_stay) # need to change sleep function to something else as it puts\n",
    "                                     # whole program to sleep (maybe a flag while servo is activated)\n",
    "        elif delta_f > 0:\n",
    "            print(\"DIR PIN SET TO HIGH\")\n",
    "            stepMotor(delta_f)\n",
    "            time.sleep(time_to_stay)\n",
    "        else:\n",
    "            stepMotor(stay)\n",
    "        self.previous_frequency = frequency\n",
    "    \n",
    "    def stepMotor(self,delta_freq):\n",
    "        steps = delta_freq * conversion_const # Need to calculate what the conversion constant is\n",
    "        for i in range(len(steps)):\n",
    "            print('STEP PIN HIGH')\n",
    "            print('STEP PIN LOW')\n",
    "        \n",
    "        "
   ]
  },
  {
   "cell_type": "code",
   "execution_count": null,
   "metadata": {},
   "outputs": [],
   "source": [
    "def dirEn(direction):\n",
    "    global state\n",
    "    if (direction == -1) & (state == 0):\n",
    "        state = 1\n",
    "        GPIO.output(DIR, GPIO.HIGH)\n",
    "    elif (direction == -1) & (state ==1):\n",
    "        state = 0\n",
    "        GPIO.output(DIR, GPIO.LOW)\n",
    "    return state\n",
    "    "
   ]
  }
 ],
 "metadata": {
  "kernelspec": {
   "display_name": "Python 3",
   "language": "python",
   "name": "python3"
  },
  "language_info": {
   "codemirror_mode": {
    "name": "ipython",
    "version": 3
   },
   "file_extension": ".py",
   "mimetype": "text/x-python",
   "name": "python",
   "nbconvert_exporter": "python",
   "pygments_lexer": "ipython3",
   "version": "3.7.3"
  }
 },
 "nbformat": 4,
 "nbformat_minor": 2
}
