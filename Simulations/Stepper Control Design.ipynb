{
 "cells": [
  {
   "cell_type": "markdown",
   "metadata": {},
   "source": [
    "# Simulation of Stepper Control methods"
   ]
  },
  {
   "cell_type": "code",
   "execution_count": 31,
   "metadata": {
    "ExecuteTime": {
     "end_time": "2020-08-13T11:54:25.120865Z",
     "start_time": "2020-08-13T11:54:25.007169Z"
    }
   },
   "outputs": [],
   "source": [
    "import numpy as np\n",
    "import matplotlib.pyplot as plt\n",
    "import time\n",
    "from scipy.optimize import curve_fit\n",
    "%matplotlib qt"
   ]
  },
  {
   "cell_type": "markdown",
   "metadata": {},
   "source": [
    "### Input will be a frequency with a time period\n",
    "stepFunc( frequency, time_to_stay): \n",
    "    - frequency: the next frequency (key) to which the gantry needs to move\n",
    "    - time_to_stay: The time that the gantry must spend at the key (in seconds)\n",
    "    \n",
    "*** Maybe add volume control and key press duration to single function ***"
   ]
  },
  {
   "cell_type": "code",
   "execution_count": 83,
   "metadata": {
    "ExecuteTime": {
     "end_time": "2020-08-18T09:31:14.280917Z",
     "start_time": "2020-08-18T09:31:14.272911Z"
    }
   },
   "outputs": [],
   "source": [
    "class Gantry:\n",
    "    def __init__(self, calibrate_k, const):\n",
    "        self.calibration_key = calibrate_k\n",
    "        self.previous_key = 0\n",
    "        self.conversion_const = const # conversion const just 10 for now so that 10 steps = distance \n",
    "                                   # between keys\n",
    "        \n",
    "    def auto_home(self):\n",
    "        print(\"Homing\")\n",
    "        print(\"Done\")\n",
    "        self.previous_key = self.calibration_key\n",
    "        return calibration_key\n",
    "        ## Homing function moves gantry until distance sensor reads out that the gantry \n",
    "        ## is at the end of the keyboard\n",
    "#         Sudo code:\n",
    "#             read current_position\n",
    "#             if current_position == cal_key_position:\n",
    "#                 end auto_home\n",
    "#             else\n",
    "#                 if current_position - cal_key_position < 0:\n",
    "#                     dir = right\n",
    "#                     move until current_position == cal_key_position\n",
    "#                 else:\n",
    "#                     dir = left\n",
    "#                     move until current_position == cal_key_position\n",
    "#             self.previous_key = cal_key\n",
    "\n",
    "    def play_tune(self, freq_array):\n",
    "        keys = np.zeros_like(freq_array)\n",
    "        keys = 12 * np.log2(freq_array/440) + 36\n",
    "        step_func(keys)\n",
    "        return np.rint(keys)\n",
    "    \n",
    "    def step_func(self,key_list, time_to_stay): \n",
    "        for k in key_list:\n",
    "            self.delta_k = self.previous_key - k\n",
    "            if self.delta_k < 0 :\n",
    "                print(\"DIR PIN SET TO LOW (MOVING RIGHT)\")\n",
    "                stepMotor(self.delta_k)\n",
    "                time.sleep(time_to_stay) # need to change sleep function to something else as it puts\n",
    "                                         # whole program to sleep (maybe a flag while servo is activatedA)\n",
    "            elif self.delta_k > 0:\n",
    "                print(\"DIR PIN SET TO HIGH (MOVING LEFT)\")\n",
    "                stepMotor(self.delta_k)\n",
    "                time.sleep(time_to_stay)\n",
    "            else:\n",
    "                stepMotor(stay)\n",
    "                \n",
    "            self.previous_key = k\n",
    "    \n",
    "    def step_motor(self,delta):\n",
    "        self.steps = self.delta * self.conversion_const # Need to calculate what the conversion constant is\n",
    "        for i in range(len(self.steps)):\n",
    "            print('STEP PIN HIGH')\n",
    "            print('STEP PIN LOW')\n",
    "        \n",
    "        "
   ]
  },
  {
   "cell_type": "code",
   "execution_count": null,
   "metadata": {},
   "outputs": [],
   "source": [
    "def dir_en(direction):\n",
    "    global state\n",
    "    if (direction == -1) & (state == 0):\n",
    "        state = 1\n",
    "        GPIO.output(DIR, GPIO.HIGH)\n",
    "    elif (direction == -1) & (state ==1):\n",
    "        state = 0\n",
    "        GPIO.output(DIR, GPIO.LOW)\n",
    "    return state\n",
    "    "
   ]
  },
  {
   "cell_type": "markdown",
   "metadata": {
    "ExecuteTime": {
     "end_time": "2020-08-12T12:33:22.557337Z",
     "start_time": "2020-08-12T12:33:22.553348Z"
    }
   },
   "source": [
    "Since $ \\Delta f $ between keys is not constant but changes to match the perception of pitch by the human ear, a transfer function from the linear frequency scale to the logarithmic key scale needs to be determined"
   ]
  },
  {
   "cell_type": "code",
   "execution_count": 76,
   "metadata": {
    "ExecuteTime": {
     "end_time": "2020-08-14T09:18:45.158136Z",
     "start_time": "2020-08-14T09:18:45.032450Z"
    }
   },
   "outputs": [
    {
     "data": {
      "text/plain": [
       "55"
      ]
     },
     "execution_count": 76,
     "metadata": {},
     "output_type": "execute_result"
    }
   ],
   "source": [
    "key_freq = [55.0, 58.27047, 61.73541, 65.40639, 69.29566, 73.41619, 77.78175, 82.40689, 87.30706, 92.49861,\n",
    "            97.99886, 103.8262, 110.0, 116.5409, 123.4708, 130.8128, 138.5913, 146.8324, 155.5635, \n",
    "            164.8138, 174.6141, 184.9972, 195.9977, 207.6523, 220.0, 233.0819, 246.9417, 261.6256, \n",
    "            277.1826, 293.6648, 311.127, 329.6276, 349.2282, 369.9944, 391.9954, 415.3047, 440.0, \n",
    "            466.1638, 493.8833, 523.2511, 554.3653, 587.3295, 622.254, 659.2551, 698.4565, 739.9888, \n",
    "            783.9909, 830.6094, 880.0, 932.3275, 987.7666, 1046.502, 1108.731, 1174.659, 1244.508]\n",
    "keys = np.array([x for x in range(13,68)])\n",
    "plt.plot(keys,(key_freq))\n",
    "len(key_freq)"
   ]
  },
  {
   "cell_type": "markdown",
   "metadata": {
    "ExecuteTime": {
     "end_time": "2020-08-13T12:23:42.574188Z",
     "start_time": "2020-08-13T12:23:42.570198Z"
    }
   },
   "source": [
    "The frequency from note number equation is:\n",
    "\n",
    "$f(n) = 2^{\\frac{n-9}{12}} \\times 440 Hz$\n",
    "\n",
    "And so, conversely, the note number from the frequency is:\n",
    "\n",
    "$n = 12 log_{2} (\\frac{f}{440 Hz}) + 36$\n",
    "\n",
    "*Note: The 49 constant is for a full sized keyboard"
   ]
  },
  {
   "cell_type": "code",
   "execution_count": 74,
   "metadata": {
    "ExecuteTime": {
     "end_time": "2020-08-14T09:18:19.224200Z",
     "start_time": "2020-08-14T09:18:19.220220Z"
    }
   },
   "outputs": [],
   "source": [
    "def key_num (frequency_list):\n",
    "    keys = np.zeros_like(frequency_list)\n",
    "    keys = 12 * np.log2(frequency_list/440) + 36\n",
    "    return np.rint(keys)"
   ]
  },
  {
   "cell_type": "code",
   "execution_count": 75,
   "metadata": {
    "ExecuteTime": {
     "end_time": "2020-08-14T09:18:20.023428Z",
     "start_time": "2020-08-14T09:18:20.018440Z"
    }
   },
   "outputs": [
    {
     "name": "stdout",
     "output_type": "stream",
     "text": [
      "[ 0.  1.  2.  3.  4.  5.  6.  7.  8.  9. 10. 11. 12. 13. 14. 15. 16. 17.\n",
      " 18. 19. 20. 21. 22. 23. 24. 25. 26. 27. 28. 29. 30. 31. 32. 33. 34. 35.\n",
      " 36. 37. 38. 39. 40. 41. 42. 43. 44. 45. 46. 47. 48. 49. 50. 51. 52. 53.\n",
      " 54.]\n"
     ]
    }
   ],
   "source": [
    "k = key_num(np.array(key_freq))\n",
    "print(k)"
   ]
  }
 ],
 "metadata": {
  "kernelspec": {
   "display_name": "Python 3",
   "language": "python",
   "name": "python3"
  },
  "language_info": {
   "codemirror_mode": {
    "name": "ipython",
    "version": 3
   },
   "file_extension": ".py",
   "mimetype": "text/x-python",
   "name": "python",
   "nbconvert_exporter": "python",
   "pygments_lexer": "ipython3",
   "version": "3.7.3"
  }
 },
 "nbformat": 4,
 "nbformat_minor": 2
}
